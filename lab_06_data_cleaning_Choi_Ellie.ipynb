{
  "cells": [
    {
      "cell_type": "markdown",
      "metadata": {
        "id": "view-in-github",
        "colab_type": "text"
      },
      "source": [
        "<a href=\"https://colab.research.google.com/github/worldstar0722/IS_4487_25FA/blob/main/lab_06_data_cleaning_Choi_Ellie.ipynb\" target=\"_parent\"><img src=\"https://colab.research.google.com/assets/colab-badge.svg\" alt=\"Open In Colab\"/></a>"
      ]
    },
    {
      "cell_type": "markdown",
      "metadata": {
        "id": "bSMMBBjMUKCW"
      },
      "source": [
        "> ### Note on Labs and Assigments:\n",
        ">\n",
        "> 🔧 Look for the **wrench emoji** 🔧 — it highlights where you're expected to take action!\n",
        ">\n",
        "> These sections are graded and are not optional.\n",
        ">"
      ]
    },
    {
      "cell_type": "markdown",
      "metadata": {
        "id": "wILWVHB_hdS9"
      },
      "source": [
        "# IS 4487 Lab 6: Data Cleaning\n",
        "\n",
        "## Outline\n",
        "\n",
        "- Load and inspect a new dataset (Megatelco)\n",
        "- Fix column names and data types\n",
        "- Handle missing values\n",
        "- Remove duplicate rows\n",
        "- Review and remove outliers\n",
        "- Reflect on data quality\n",
        "\n",
        "In this lab, we’ll clean the data to get it ready for transformations and analysis.\n",
        "\n",
        "We will continue working with this dataset in **Lab 7**, where we will create new features and apply transformations.\n",
        "\n",
        "<a href=\"https://colab.research.google.com/github/Stan-Pugsley/is_4487_base/blob/main/Labs/lab_06_data_cleaning.ipynb\" target=\"_parent\">\n",
        "  <img src=\"https://colab.research.google.com/assets/colab-badge.svg\" alt=\"Open In Colab\"/>\n",
        "</a>"
      ]
    },
    {
      "cell_type": "markdown",
      "metadata": {
        "id": "7sL7v5VBhn0W"
      },
      "source": [
        "## Megatelco Data Dictionary\n",
        "\n",
        " DEMOGRAPHIC VARIABLES:\n",
        " - College - has the customer attended some college (one, zero)\n",
        " - Income - annual income of customer\n",
        " - House - estimated price of the customer's home (if applicable)\n",
        "\n",
        " USAGE VARIABLES:\n",
        " - Data Overage Mb - Average number of megabytes that the customer used in excess of the plan limit (over last 12 months)\n",
        " - Data Leftover Mb - Average number of megabytes that the customer use was below the plan limit (over last 12 months)\n",
        " - Data Mb Used - Average number of megabytes used per month (over last 12 months)\n",
        " - Text Message Count - Average number of texts per month (over last 12 months)\n",
        " - Over 15 Minute Calls Per Month - Average number of calls over 15 minutes in duration per month (over last 12 months)\n",
        " - Average Call Duration- Average call duration (over last 12 months)\n",
        "\n",
        "PHONE VARIABLES:\n",
        " - Operating System - Current operating system of phone\n",
        " - Handset Price - Retail price of the phone used by the customer\n",
        "\n",
        "ATTITUDINAL VARIABLES:\n",
        " - Reported Satisfaction - Survey response to \"How satisfied are you with your current phone plan?\" (high, med, low)\n",
        " - Reported Usage Level - Survey response to \"How much do your use your phone?\" (high, med, low)\n",
        " - Considering Change of Plan - Survey response to \"Are you currently planning to change companies when your contract expires?\" (high, med, low)\n",
        "\n",
        "OTHER VARIABLES\n",
        " - Leave - Did this customer churn with the last contract expiration? (LEAVE, STAY)\n",
        " - ID - Customer identifier"
      ]
    },
    {
      "cell_type": "code",
      "execution_count": 47,
      "metadata": {
        "id": "j7lmvMVURvit",
        "colab": {
          "base_uri": "https://localhost:8080/",
          "height": 226
        },
        "outputId": "7b7dc532-afda-4758-99b0-54024e74dcf9"
      },
      "outputs": [
        {
          "output_type": "execute_result",
          "data": {
            "text/plain": [
              "  college    income  data_overage_mb  data_leftover_mb  data_mb_used  \\\n",
              "0     one  403137.0               70               0.0        6605.0   \n",
              "1    zero  129700.0               67              16.0        6028.0   \n",
              "2    zero   69741.0               60               0.0        1482.0   \n",
              "3     one  377572.0                0              22.0        3005.0   \n",
              "4    zero  382080.0                0               0.0        1794.0   \n",
              "\n",
              "   text_message_count   house  handset_price  over_15mins_calls_per_month  \\\n",
              "0                 199  841317          653.0                          5.0   \n",
              "1                 134  476664         1193.0                          5.0   \n",
              "2                 176  810225         1037.0                          3.0   \n",
              "3                 184  826967         1161.0                          0.0   \n",
              "4                  74  951896         1023.0                          0.0   \n",
              "\n",
              "   average_call_duration reported_satisfaction reported_usage_level  \\\n",
              "0                    8.0                   low                  low   \n",
              "1                    5.0                   low                  low   \n",
              "2                    8.0                   low                  low   \n",
              "3                    5.0                   low                  low   \n",
              "4                   14.0                   low                  low   \n",
              "\n",
              "  considering_change_of_plan  leave     id operating_system  \n",
              "0                        yes  LEAVE   8183          Android  \n",
              "1                        yes  LEAVE  12501              IOS  \n",
              "2                        yes   STAY   7425              IOS  \n",
              "3                         no  LEAVE  13488              IOS  \n",
              "4                        yes   STAY  11389              IOS  "
            ],
            "text/html": [
              "\n",
              "  <div id=\"df-2c5b5041-4790-47fb-9120-7990875b31c2\" class=\"colab-df-container\">\n",
              "    <div>\n",
              "<style scoped>\n",
              "    .dataframe tbody tr th:only-of-type {\n",
              "        vertical-align: middle;\n",
              "    }\n",
              "\n",
              "    .dataframe tbody tr th {\n",
              "        vertical-align: top;\n",
              "    }\n",
              "\n",
              "    .dataframe thead th {\n",
              "        text-align: right;\n",
              "    }\n",
              "</style>\n",
              "<table border=\"1\" class=\"dataframe\">\n",
              "  <thead>\n",
              "    <tr style=\"text-align: right;\">\n",
              "      <th></th>\n",
              "      <th>college</th>\n",
              "      <th>income</th>\n",
              "      <th>data_overage_mb</th>\n",
              "      <th>data_leftover_mb</th>\n",
              "      <th>data_mb_used</th>\n",
              "      <th>text_message_count</th>\n",
              "      <th>house</th>\n",
              "      <th>handset_price</th>\n",
              "      <th>over_15mins_calls_per_month</th>\n",
              "      <th>average_call_duration</th>\n",
              "      <th>reported_satisfaction</th>\n",
              "      <th>reported_usage_level</th>\n",
              "      <th>considering_change_of_plan</th>\n",
              "      <th>leave</th>\n",
              "      <th>id</th>\n",
              "      <th>operating_system</th>\n",
              "    </tr>\n",
              "  </thead>\n",
              "  <tbody>\n",
              "    <tr>\n",
              "      <th>0</th>\n",
              "      <td>one</td>\n",
              "      <td>403137.0</td>\n",
              "      <td>70</td>\n",
              "      <td>0.0</td>\n",
              "      <td>6605.0</td>\n",
              "      <td>199</td>\n",
              "      <td>841317</td>\n",
              "      <td>653.0</td>\n",
              "      <td>5.0</td>\n",
              "      <td>8.0</td>\n",
              "      <td>low</td>\n",
              "      <td>low</td>\n",
              "      <td>yes</td>\n",
              "      <td>LEAVE</td>\n",
              "      <td>8183</td>\n",
              "      <td>Android</td>\n",
              "    </tr>\n",
              "    <tr>\n",
              "      <th>1</th>\n",
              "      <td>zero</td>\n",
              "      <td>129700.0</td>\n",
              "      <td>67</td>\n",
              "      <td>16.0</td>\n",
              "      <td>6028.0</td>\n",
              "      <td>134</td>\n",
              "      <td>476664</td>\n",
              "      <td>1193.0</td>\n",
              "      <td>5.0</td>\n",
              "      <td>5.0</td>\n",
              "      <td>low</td>\n",
              "      <td>low</td>\n",
              "      <td>yes</td>\n",
              "      <td>LEAVE</td>\n",
              "      <td>12501</td>\n",
              "      <td>IOS</td>\n",
              "    </tr>\n",
              "    <tr>\n",
              "      <th>2</th>\n",
              "      <td>zero</td>\n",
              "      <td>69741.0</td>\n",
              "      <td>60</td>\n",
              "      <td>0.0</td>\n",
              "      <td>1482.0</td>\n",
              "      <td>176</td>\n",
              "      <td>810225</td>\n",
              "      <td>1037.0</td>\n",
              "      <td>3.0</td>\n",
              "      <td>8.0</td>\n",
              "      <td>low</td>\n",
              "      <td>low</td>\n",
              "      <td>yes</td>\n",
              "      <td>STAY</td>\n",
              "      <td>7425</td>\n",
              "      <td>IOS</td>\n",
              "    </tr>\n",
              "    <tr>\n",
              "      <th>3</th>\n",
              "      <td>one</td>\n",
              "      <td>377572.0</td>\n",
              "      <td>0</td>\n",
              "      <td>22.0</td>\n",
              "      <td>3005.0</td>\n",
              "      <td>184</td>\n",
              "      <td>826967</td>\n",
              "      <td>1161.0</td>\n",
              "      <td>0.0</td>\n",
              "      <td>5.0</td>\n",
              "      <td>low</td>\n",
              "      <td>low</td>\n",
              "      <td>no</td>\n",
              "      <td>LEAVE</td>\n",
              "      <td>13488</td>\n",
              "      <td>IOS</td>\n",
              "    </tr>\n",
              "    <tr>\n",
              "      <th>4</th>\n",
              "      <td>zero</td>\n",
              "      <td>382080.0</td>\n",
              "      <td>0</td>\n",
              "      <td>0.0</td>\n",
              "      <td>1794.0</td>\n",
              "      <td>74</td>\n",
              "      <td>951896</td>\n",
              "      <td>1023.0</td>\n",
              "      <td>0.0</td>\n",
              "      <td>14.0</td>\n",
              "      <td>low</td>\n",
              "      <td>low</td>\n",
              "      <td>yes</td>\n",
              "      <td>STAY</td>\n",
              "      <td>11389</td>\n",
              "      <td>IOS</td>\n",
              "    </tr>\n",
              "  </tbody>\n",
              "</table>\n",
              "</div>\n",
              "    <div class=\"colab-df-buttons\">\n",
              "\n",
              "  <div class=\"colab-df-container\">\n",
              "    <button class=\"colab-df-convert\" onclick=\"convertToInteractive('df-2c5b5041-4790-47fb-9120-7990875b31c2')\"\n",
              "            title=\"Convert this dataframe to an interactive table.\"\n",
              "            style=\"display:none;\">\n",
              "\n",
              "  <svg xmlns=\"http://www.w3.org/2000/svg\" height=\"24px\" viewBox=\"0 -960 960 960\">\n",
              "    <path d=\"M120-120v-720h720v720H120Zm60-500h600v-160H180v160Zm220 220h160v-160H400v160Zm0 220h160v-160H400v160ZM180-400h160v-160H180v160Zm440 0h160v-160H620v160ZM180-180h160v-160H180v160Zm440 0h160v-160H620v160Z\"/>\n",
              "  </svg>\n",
              "    </button>\n",
              "\n",
              "  <style>\n",
              "    .colab-df-container {\n",
              "      display:flex;\n",
              "      gap: 12px;\n",
              "    }\n",
              "\n",
              "    .colab-df-convert {\n",
              "      background-color: #E8F0FE;\n",
              "      border: none;\n",
              "      border-radius: 50%;\n",
              "      cursor: pointer;\n",
              "      display: none;\n",
              "      fill: #1967D2;\n",
              "      height: 32px;\n",
              "      padding: 0 0 0 0;\n",
              "      width: 32px;\n",
              "    }\n",
              "\n",
              "    .colab-df-convert:hover {\n",
              "      background-color: #E2EBFA;\n",
              "      box-shadow: 0px 1px 2px rgba(60, 64, 67, 0.3), 0px 1px 3px 1px rgba(60, 64, 67, 0.15);\n",
              "      fill: #174EA6;\n",
              "    }\n",
              "\n",
              "    .colab-df-buttons div {\n",
              "      margin-bottom: 4px;\n",
              "    }\n",
              "\n",
              "    [theme=dark] .colab-df-convert {\n",
              "      background-color: #3B4455;\n",
              "      fill: #D2E3FC;\n",
              "    }\n",
              "\n",
              "    [theme=dark] .colab-df-convert:hover {\n",
              "      background-color: #434B5C;\n",
              "      box-shadow: 0px 1px 3px 1px rgba(0, 0, 0, 0.15);\n",
              "      filter: drop-shadow(0px 1px 2px rgba(0, 0, 0, 0.3));\n",
              "      fill: #FFFFFF;\n",
              "    }\n",
              "  </style>\n",
              "\n",
              "    <script>\n",
              "      const buttonEl =\n",
              "        document.querySelector('#df-2c5b5041-4790-47fb-9120-7990875b31c2 button.colab-df-convert');\n",
              "      buttonEl.style.display =\n",
              "        google.colab.kernel.accessAllowed ? 'block' : 'none';\n",
              "\n",
              "      async function convertToInteractive(key) {\n",
              "        const element = document.querySelector('#df-2c5b5041-4790-47fb-9120-7990875b31c2');\n",
              "        const dataTable =\n",
              "          await google.colab.kernel.invokeFunction('convertToInteractive',\n",
              "                                                    [key], {});\n",
              "        if (!dataTable) return;\n",
              "\n",
              "        const docLinkHtml = 'Like what you see? Visit the ' +\n",
              "          '<a target=\"_blank\" href=https://colab.research.google.com/notebooks/data_table.ipynb>data table notebook</a>'\n",
              "          + ' to learn more about interactive tables.';\n",
              "        element.innerHTML = '';\n",
              "        dataTable['output_type'] = 'display_data';\n",
              "        await google.colab.output.renderOutput(dataTable, element);\n",
              "        const docLink = document.createElement('div');\n",
              "        docLink.innerHTML = docLinkHtml;\n",
              "        element.appendChild(docLink);\n",
              "      }\n",
              "    </script>\n",
              "  </div>\n",
              "\n",
              "\n",
              "    <div id=\"df-279f2fc5-0829-4529-b2f1-504f5f073b89\">\n",
              "      <button class=\"colab-df-quickchart\" onclick=\"quickchart('df-279f2fc5-0829-4529-b2f1-504f5f073b89')\"\n",
              "                title=\"Suggest charts\"\n",
              "                style=\"display:none;\">\n",
              "\n",
              "<svg xmlns=\"http://www.w3.org/2000/svg\" height=\"24px\"viewBox=\"0 0 24 24\"\n",
              "     width=\"24px\">\n",
              "    <g>\n",
              "        <path d=\"M19 3H5c-1.1 0-2 .9-2 2v14c0 1.1.9 2 2 2h14c1.1 0 2-.9 2-2V5c0-1.1-.9-2-2-2zM9 17H7v-7h2v7zm4 0h-2V7h2v10zm4 0h-2v-4h2v4z\"/>\n",
              "    </g>\n",
              "</svg>\n",
              "      </button>\n",
              "\n",
              "<style>\n",
              "  .colab-df-quickchart {\n",
              "      --bg-color: #E8F0FE;\n",
              "      --fill-color: #1967D2;\n",
              "      --hover-bg-color: #E2EBFA;\n",
              "      --hover-fill-color: #174EA6;\n",
              "      --disabled-fill-color: #AAA;\n",
              "      --disabled-bg-color: #DDD;\n",
              "  }\n",
              "\n",
              "  [theme=dark] .colab-df-quickchart {\n",
              "      --bg-color: #3B4455;\n",
              "      --fill-color: #D2E3FC;\n",
              "      --hover-bg-color: #434B5C;\n",
              "      --hover-fill-color: #FFFFFF;\n",
              "      --disabled-bg-color: #3B4455;\n",
              "      --disabled-fill-color: #666;\n",
              "  }\n",
              "\n",
              "  .colab-df-quickchart {\n",
              "    background-color: var(--bg-color);\n",
              "    border: none;\n",
              "    border-radius: 50%;\n",
              "    cursor: pointer;\n",
              "    display: none;\n",
              "    fill: var(--fill-color);\n",
              "    height: 32px;\n",
              "    padding: 0;\n",
              "    width: 32px;\n",
              "  }\n",
              "\n",
              "  .colab-df-quickchart:hover {\n",
              "    background-color: var(--hover-bg-color);\n",
              "    box-shadow: 0 1px 2px rgba(60, 64, 67, 0.3), 0 1px 3px 1px rgba(60, 64, 67, 0.15);\n",
              "    fill: var(--button-hover-fill-color);\n",
              "  }\n",
              "\n",
              "  .colab-df-quickchart-complete:disabled,\n",
              "  .colab-df-quickchart-complete:disabled:hover {\n",
              "    background-color: var(--disabled-bg-color);\n",
              "    fill: var(--disabled-fill-color);\n",
              "    box-shadow: none;\n",
              "  }\n",
              "\n",
              "  .colab-df-spinner {\n",
              "    border: 2px solid var(--fill-color);\n",
              "    border-color: transparent;\n",
              "    border-bottom-color: var(--fill-color);\n",
              "    animation:\n",
              "      spin 1s steps(1) infinite;\n",
              "  }\n",
              "\n",
              "  @keyframes spin {\n",
              "    0% {\n",
              "      border-color: transparent;\n",
              "      border-bottom-color: var(--fill-color);\n",
              "      border-left-color: var(--fill-color);\n",
              "    }\n",
              "    20% {\n",
              "      border-color: transparent;\n",
              "      border-left-color: var(--fill-color);\n",
              "      border-top-color: var(--fill-color);\n",
              "    }\n",
              "    30% {\n",
              "      border-color: transparent;\n",
              "      border-left-color: var(--fill-color);\n",
              "      border-top-color: var(--fill-color);\n",
              "      border-right-color: var(--fill-color);\n",
              "    }\n",
              "    40% {\n",
              "      border-color: transparent;\n",
              "      border-right-color: var(--fill-color);\n",
              "      border-top-color: var(--fill-color);\n",
              "    }\n",
              "    60% {\n",
              "      border-color: transparent;\n",
              "      border-right-color: var(--fill-color);\n",
              "    }\n",
              "    80% {\n",
              "      border-color: transparent;\n",
              "      border-right-color: var(--fill-color);\n",
              "      border-bottom-color: var(--fill-color);\n",
              "    }\n",
              "    90% {\n",
              "      border-color: transparent;\n",
              "      border-bottom-color: var(--fill-color);\n",
              "    }\n",
              "  }\n",
              "</style>\n",
              "\n",
              "      <script>\n",
              "        async function quickchart(key) {\n",
              "          const quickchartButtonEl =\n",
              "            document.querySelector('#' + key + ' button');\n",
              "          quickchartButtonEl.disabled = true;  // To prevent multiple clicks.\n",
              "          quickchartButtonEl.classList.add('colab-df-spinner');\n",
              "          try {\n",
              "            const charts = await google.colab.kernel.invokeFunction(\n",
              "                'suggestCharts', [key], {});\n",
              "          } catch (error) {\n",
              "            console.error('Error during call to suggestCharts:', error);\n",
              "          }\n",
              "          quickchartButtonEl.classList.remove('colab-df-spinner');\n",
              "          quickchartButtonEl.classList.add('colab-df-quickchart-complete');\n",
              "        }\n",
              "        (() => {\n",
              "          let quickchartButtonEl =\n",
              "            document.querySelector('#df-279f2fc5-0829-4529-b2f1-504f5f073b89 button');\n",
              "          quickchartButtonEl.style.display =\n",
              "            google.colab.kernel.accessAllowed ? 'block' : 'none';\n",
              "        })();\n",
              "      </script>\n",
              "    </div>\n",
              "\n",
              "    </div>\n",
              "  </div>\n"
            ],
            "application/vnd.google.colaboratory.intrinsic+json": {
              "type": "dataframe",
              "variable_name": "df",
              "summary": "{\n  \"name\": \"df\",\n  \"rows\": 15016,\n  \"fields\": [\n    {\n      \"column\": \"college\",\n      \"properties\": {\n        \"dtype\": \"category\",\n        \"num_unique_values\": 2,\n        \"samples\": [\n          \"zero\",\n          \"one\"\n        ],\n        \"semantic_type\": \"\",\n        \"description\": \"\"\n      }\n    },\n    {\n      \"column\": \"income\",\n      \"properties\": {\n        \"dtype\": \"number\",\n        \"std\": 109627.85966562832,\n        \"min\": -65000.0,\n        \"max\": 432000.0,\n        \"num_unique_values\": 14715,\n        \"samples\": [\n          80973.0,\n          239000.0\n        ],\n        \"semantic_type\": \"\",\n        \"description\": \"\"\n      }\n    },\n    {\n      \"column\": \"data_overage_mb\",\n      \"properties\": {\n        \"dtype\": \"number\",\n        \"std\": 113,\n        \"min\": 0,\n        \"max\": 380,\n        \"num_unique_values\": 381,\n        \"samples\": [\n          294,\n          163\n        ],\n        \"semantic_type\": \"\",\n        \"description\": \"\"\n      }\n    },\n    {\n      \"column\": \"data_leftover_mb\",\n      \"properties\": {\n        \"dtype\": \"number\",\n        \"std\": 28.0523177836588,\n        \"min\": 0.0,\n        \"max\": 89.0,\n        \"num_unique_values\": 90,\n        \"samples\": [\n          80.0,\n          46.0\n        ],\n        \"semantic_type\": \"\",\n        \"description\": \"\"\n      }\n    },\n    {\n      \"column\": \"data_mb_used\",\n      \"properties\": {\n        \"dtype\": \"number\",\n        \"std\": 2203.8024463604534,\n        \"min\": 400.0,\n        \"max\": 8000.0,\n        \"num_unique_values\": 6500,\n        \"samples\": [\n          5499.0,\n          4288.0\n        ],\n        \"semantic_type\": \"\",\n        \"description\": \"\"\n      }\n    },\n    {\n      \"column\": \"text_message_count\",\n      \"properties\": {\n        \"dtype\": \"number\",\n        \"std\": 62,\n        \"min\": 52,\n        \"max\": 5000,\n        \"num_unique_values\": 170,\n        \"samples\": [\n          166,\n          144\n        ],\n        \"semantic_type\": \"\",\n        \"description\": \"\"\n      }\n    },\n    {\n      \"column\": \"house\",\n      \"properties\": {\n        \"dtype\": \"number\",\n        \"std\": 287016,\n        \"min\": -463,\n        \"max\": 1456389,\n        \"num_unique_values\": 14885,\n        \"samples\": [\n          1164856,\n          1452898\n        ],\n        \"semantic_type\": \"\",\n        \"description\": \"\"\n      }\n    },\n    {\n      \"column\": \"handset_price\",\n      \"properties\": {\n        \"dtype\": \"number\",\n        \"std\": 1238.997926701688,\n        \"min\": -200.0,\n        \"max\": 125000.0,\n        \"num_unique_values\": 1140,\n        \"samples\": [\n          822.0,\n          609.0\n        ],\n        \"semantic_type\": \"\",\n        \"description\": \"\"\n      }\n    },\n    {\n      \"column\": \"over_15mins_calls_per_month\",\n      \"properties\": {\n        \"dtype\": \"number\",\n        \"std\": 8.404210262403263,\n        \"min\": 0.0,\n        \"max\": 35.0,\n        \"num_unique_values\": 36,\n        \"samples\": [\n          30.0,\n          22.0\n        ],\n        \"semantic_type\": \"\",\n        \"description\": \"\"\n      }\n    },\n    {\n      \"column\": \"average_call_duration\",\n      \"properties\": {\n        \"dtype\": \"number\",\n        \"std\": 41.18895699052666,\n        \"min\": 1.0,\n        \"max\": 5000.0,\n        \"num_unique_values\": 20,\n        \"samples\": [\n          8.0,\n          3.0\n        ],\n        \"semantic_type\": \"\",\n        \"description\": \"\"\n      }\n    },\n    {\n      \"column\": \"reported_satisfaction\",\n      \"properties\": {\n        \"dtype\": \"category\",\n        \"num_unique_values\": 3,\n        \"samples\": [\n          \"low\",\n          \"high\"\n        ],\n        \"semantic_type\": \"\",\n        \"description\": \"\"\n      }\n    },\n    {\n      \"column\": \"reported_usage_level\",\n      \"properties\": {\n        \"dtype\": \"category\",\n        \"num_unique_values\": 3,\n        \"samples\": [\n          \"low\",\n          \"high\"\n        ],\n        \"semantic_type\": \"\",\n        \"description\": \"\"\n      }\n    },\n    {\n      \"column\": \"considering_change_of_plan\",\n      \"properties\": {\n        \"dtype\": \"category\",\n        \"num_unique_values\": 2,\n        \"samples\": [\n          \"no\",\n          \"yes\"\n        ],\n        \"semantic_type\": \"\",\n        \"description\": \"\"\n      }\n    },\n    {\n      \"column\": \"leave\",\n      \"properties\": {\n        \"dtype\": \"category\",\n        \"num_unique_values\": 2,\n        \"samples\": [\n          \"STAY\",\n          \"LEAVE\"\n        ],\n        \"semantic_type\": \"\",\n        \"description\": \"\"\n      }\n    },\n    {\n      \"column\": \"id\",\n      \"properties\": {\n        \"dtype\": \"number\",\n        \"std\": 6812,\n        \"min\": 2,\n        \"max\": 25354,\n        \"num_unique_values\": 11560,\n        \"samples\": [\n          18399,\n          10017\n        ],\n        \"semantic_type\": \"\",\n        \"description\": \"\"\n      }\n    },\n    {\n      \"column\": \"operating_system\",\n      \"properties\": {\n        \"dtype\": \"category\",\n        \"num_unique_values\": 2,\n        \"samples\": [\n          \"IOS\",\n          \"Android\"\n        ],\n        \"semantic_type\": \"\",\n        \"description\": \"\"\n      }\n    }\n  ]\n}"
            }
          },
          "metadata": {},
          "execution_count": 47
        }
      ],
      "source": [
        "import pandas as pd\n",
        "\n",
        "url = \"https://raw.githubusercontent.com/Stan-Pugsley/is_4487_base/812e9f15c357a5657a2795631fcaa9d9363cb417/DataSets/megatelco_leave_survey_data_cleaning_v2.csv\"\n",
        "df = pd.read_csv(url)\n",
        "\n",
        "df.head()"
      ]
    },
    {
      "cell_type": "code",
      "execution_count": 48,
      "metadata": {
        "id": "CAK8bpQbpR08"
      },
      "outputs": [],
      "source": [
        "# create a copy of your dataset for use in part 4\n",
        "copied_df = df.copy(deep=True)"
      ]
    },
    {
      "cell_type": "markdown",
      "metadata": {
        "id": "x5EdJF_oiJDb"
      },
      "source": [
        "## Part 1: Review Column Names and Structure\n",
        "\n",
        "Before cleaning, check the structure of the dataset:\n",
        "\n",
        "- Are column names consistent (lowercase, no spaces)?\n",
        "- Are there any typos or redundant labels?\n",
        "- Do the rows and columns appear aligned? (Are all the columns the same size? Are all the rows the same size?)\n",
        "\n",
        "Why this matters:\n",
        "Inconsistent or messy column names can break code and make analysis harder to follow.\n",
        "\n",
        "\n"
      ]
    },
    {
      "cell_type": "code",
      "execution_count": 49,
      "metadata": {
        "id": "nm4Pnq-ViH38",
        "colab": {
          "base_uri": "https://localhost:8080/"
        },
        "outputId": "d50dc268-48b5-495b-ceaa-29dfd70bb0f1"
      },
      "outputs": [
        {
          "output_type": "stream",
          "name": "stdout",
          "text": [
            "<class 'pandas.core.frame.DataFrame'>\n",
            "RangeIndex: 15016 entries, 0 to 15015\n",
            "Data columns (total 16 columns):\n",
            " #   Column                       Non-Null Count  Dtype  \n",
            "---  ------                       --------------  -----  \n",
            " 0   college                      15016 non-null  object \n",
            " 1   income                       15006 non-null  float64\n",
            " 2   data_overage_mb              15016 non-null  int64  \n",
            " 3   data_leftover_mb             14916 non-null  float64\n",
            " 4   data_mb_used                 14916 non-null  float64\n",
            " 5   text_message_count           15016 non-null  int64  \n",
            " 6   house                        15016 non-null  int64  \n",
            " 7   handset_price                14916 non-null  float64\n",
            " 8   over_15mins_calls_per_month  15013 non-null  float64\n",
            " 9   average_call_duration        14916 non-null  float64\n",
            " 10  reported_satisfaction        15016 non-null  object \n",
            " 11  reported_usage_level         15016 non-null  object \n",
            " 12  considering_change_of_plan   14201 non-null  object \n",
            " 13  leave                        15016 non-null  object \n",
            " 14  id                           15016 non-null  int64  \n",
            " 15  operating_system             15016 non-null  object \n",
            "dtypes: float64(6), int64(4), object(6)\n",
            "memory usage: 1.8+ MB\n"
          ]
        }
      ],
      "source": [
        "# Standardize column names: lowercase, no spaces\n",
        "df.columns = df.columns.str.strip().str.lower().str.replace(\" \", \"_\")\n",
        "\n",
        "# Get column info and data types\n",
        "df.info()"
      ]
    },
    {
      "cell_type": "markdown",
      "metadata": {
        "id": "rRc0L4FGiYOz"
      },
      "source": [
        "## Part 2: Convert Data Types\n",
        "\n",
        "Before analysis, make sure each column is stored in the correct format. This helps avoid calculation errors, makes plotting smoother, and ensures models interpret the data correctly.\n",
        "\n",
        "Think about:\n",
        "- Are numbers accidentally stored as strings?\n",
        "- Should repeated text values be converted to categories?\n",
        "- Are \"yes\"/\"no\" columns better represented as binary (0/1) or categorical types?\n",
        "\n",
        "Fixing data types now saves time and avoids issues later in your workflow.\n",
        "\n",
        "\n"
      ]
    },
    {
      "cell_type": "code",
      "execution_count": 50,
      "metadata": {
        "id": "9R4guI7lfgGi",
        "colab": {
          "base_uri": "https://localhost:8080/"
        },
        "outputId": "a046e637-2e7a-4b48-be03-3cbb1d9e6b0d"
      },
      "outputs": [
        {
          "output_type": "stream",
          "name": "stdout",
          "text": [
            "Original dtypes:\n",
            " college                         object\n",
            "income                         float64\n",
            "data_overage_mb                  int64\n",
            "data_leftover_mb               float64\n",
            "data_mb_used                   float64\n",
            "text_message_count               int64\n",
            "house                            int64\n",
            "handset_price                  float64\n",
            "over_15mins_calls_per_month    float64\n",
            "average_call_duration          float64\n",
            "reported_satisfaction           object\n",
            "reported_usage_level            object\n",
            "considering_change_of_plan      object\n",
            "leave                           object\n",
            "id                               int64\n",
            "operating_system                object\n",
            "dtype: object\n",
            "\n",
            "Updated dtypes:\n",
            " college                        category\n",
            "income                          float64\n",
            "data_overage_mb                   int64\n",
            "data_leftover_mb                float64\n",
            "data_mb_used                    float64\n",
            "text_message_count                int64\n",
            "house                          category\n",
            "handset_price                   float64\n",
            "over_15mins_calls_per_month     float64\n",
            "average_call_duration           float64\n",
            "reported_satisfaction          category\n",
            "reported_usage_level             object\n",
            "considering_change_of_plan     category\n",
            "leave                            object\n",
            "id                                int64\n",
            "operating_system               category\n",
            "dtype: object\n"
          ]
        }
      ],
      "source": [
        "# Check original data types\n",
        "print(\"Original dtypes:\\n\", df.dtypes)\n",
        "\n",
        "# Convert yes/no to binary categories\n",
        "df['considering_change_of_plan'] = df['considering_change_of_plan'].map({'yes': 1, 'no': 0}).astype('category')\n",
        "\n",
        "# Convert categorical text columns\n",
        "df['college'] = df['college'].astype('category')\n",
        "df['house'] = df['house'].astype('category')\n",
        "df['reported_satisfaction'] = df['reported_satisfaction'].astype('category')\n",
        "df['operating_system'] = df['operating_system'].astype('category')\n",
        "\n",
        "# Convert numeric-looking columns from object to float\n",
        "df['income'] = pd.to_numeric(df['income'], errors='coerce')\n",
        "df['data_overage_mb'] = pd.to_numeric(df['data_overage_mb'], errors='coerce')\n",
        "df['data_leftover_mb'] = pd.to_numeric(df['data_leftover_mb'], errors='coerce')\n",
        "df['data_mb_used'] = pd.to_numeric(df['data_mb_used'], errors='coerce')\n",
        "df['text_message_count'] = pd.to_numeric(df['text_message_count'], errors='coerce')\n",
        "df['over_15mins_calls_per_month'] = pd.to_numeric(df['over_15mins_calls_per_month'], errors='coerce')\n",
        "df['average_call_duration'] = pd.to_numeric(df['average_call_duration'], errors='coerce')\n",
        "\n",
        "# Check updated data types\n",
        "print(\"\\nUpdated dtypes:\\n\", df.dtypes)\n"
      ]
    },
    {
      "cell_type": "markdown",
      "metadata": {
        "id": "C8diAR0Vil7a"
      },
      "source": [
        "### 🔧 Try It Yourself – Part 2\n",
        "\n",
        "1. Convert the `leave` column from \"yes\"/\"no\" to binary (`1`/`0`) and make it a **category**\n",
        "2. Convert `reported_usage_level` to a **categorical** type\n",
        "3. Convert `house` to an **integer** type\n",
        "3. Use `.info()` to confirm the changes\n"
      ]
    },
    {
      "cell_type": "code",
      "execution_count": 51,
      "metadata": {
        "id": "TxDe-Td1ilji",
        "colab": {
          "base_uri": "https://localhost:8080/"
        },
        "outputId": "192c5f90-8344-4d08-dd7b-a648abf65ff6"
      },
      "outputs": [
        {
          "output_type": "stream",
          "name": "stdout",
          "text": [
            "college                          0\n",
            "income                          10\n",
            "data_overage_mb                  0\n",
            "data_leftover_mb               100\n",
            "data_mb_used                   100\n",
            "text_message_count               0\n",
            "house                            0\n",
            "handset_price                  100\n",
            "over_15mins_calls_per_month      0\n",
            "average_call_duration          100\n",
            "reported_satisfaction            0\n",
            "reported_usage_level             0\n",
            "considering_change_of_plan       0\n",
            "leave                            0\n",
            "id                               0\n",
            "operating_system                 0\n",
            "dtype: int64\n"
          ]
        }
      ],
      "source": [
        "# add code here 🔧\n",
        "df.loc[:, 'over_15mins_calls_per_month'] = df['over_15mins_calls_per_month'].fillna(0)\n",
        "\n",
        "mode_value = df['considering_change_of_plan'].mode()[0]\n",
        "df.loc[:, 'considering_change_of_plan'] = df['considering_change_of_plan'].fillna(mode_value)\n",
        "\n",
        "print(df.isnull().sum())\n"
      ]
    },
    {
      "cell_type": "markdown",
      "metadata": {
        "id": "V89jBNxwiqLR"
      },
      "source": [
        "## Part 3: Handle Missing Values\n",
        "\n",
        "Missing data can break charts, skew stats, and disrupt models — so it needs to be handled carefully.\n",
        "\n",
        "### Think about:\n",
        "- Are the missing values random or patterned?\n",
        "- Can we drop rows, or do we need to fill them?\n",
        "- Should we use mean, median, or something else?\n",
        "\n",
        "### Guidelines:\n",
        "- Drop rows if there are only a few missing and the columns associated with them are essential to keep intact\n",
        "- Use median to replace outliers in numeric columns\n",
        "- Use 0 if the missing value means “none” (e.g. If the value was in response to: “do you have a history of chronic illness?” and the value was just left blank, we can assume that that blank just means “none” (the patient has no history of chronic illness))\n",
        "- Use mode to replace categorical values\n",
        "\n",
        "Cleaning missing values early avoids bigger problems later.\n",
        "\n",
        "-----\n",
        "\n",
        "\n",
        "**Note on `.loc` and Warnings** - When assigning values to a DataFrame, especially after filtering or copying, it's best to use `.loc` to avoid **`SettingWithCopyWarning`**. This ensures that you're updating the original data and not a temporary view of it.\n"
      ]
    },
    {
      "cell_type": "code",
      "execution_count": 52,
      "metadata": {
        "id": "_5CvIibPiwkZ",
        "colab": {
          "base_uri": "https://localhost:8080/"
        },
        "outputId": "e0688997-93f8-4ca1-8a32-80ecd9708032"
      },
      "outputs": [
        {
          "output_type": "stream",
          "name": "stdout",
          "text": [
            "Missing values per column:\n",
            " college                          0\n",
            "income                          10\n",
            "data_overage_mb                  0\n",
            "data_leftover_mb               100\n",
            "data_mb_used                   100\n",
            "text_message_count               0\n",
            "house                            0\n",
            "handset_price                  100\n",
            "over_15mins_calls_per_month      0\n",
            "average_call_duration          100\n",
            "reported_satisfaction            0\n",
            "reported_usage_level             0\n",
            "considering_change_of_plan       0\n",
            "leave                            0\n",
            "id                               0\n",
            "operating_system                 0\n",
            "dtype: int64\n",
            "\n",
            "Missing values after handling:\n",
            " college                        0\n",
            "income                         0\n",
            "data_overage_mb                0\n",
            "data_leftover_mb               0\n",
            "data_mb_used                   0\n",
            "text_message_count             0\n",
            "house                          0\n",
            "handset_price                  0\n",
            "over_15mins_calls_per_month    0\n",
            "average_call_duration          0\n",
            "reported_satisfaction          0\n",
            "reported_usage_level           0\n",
            "considering_change_of_plan     0\n",
            "leave                          0\n",
            "id                             0\n",
            "operating_system               0\n",
            "dtype: int64\n"
          ]
        }
      ],
      "source": [
        "# View missing value counts\n",
        "print(\"Missing values per column:\\n\", df.isnull().sum())\n",
        "\n",
        "# Fill 'handset_price' with median\n",
        "df['handset_price'] = df['handset_price'].fillna(df['handset_price'].median())\n",
        "\n",
        "# Drop rows with missing 'income' (if very few)\n",
        "df = df.dropna(subset=['income']).copy()\n",
        "\n",
        "# Fill missing 'data_leftover_mb' with 0 if it logically means no leftover data\n",
        "df.loc[:, 'data_leftover_mb'] = df['data_leftover_mb'].fillna(0)\n",
        "\n",
        "# Fill 'average_call_duration' with median if necessary\n",
        "df.loc[:, 'average_call_duration'] = df['average_call_duration'].fillna(df['average_call_duration'].median())\n",
        "\n",
        "# Fill 'data_mb_used' with median\n",
        "df.loc[:, 'data_mb_used'] = df['data_mb_used'].fillna(df['data_mb_used'].median())\n",
        "\n",
        "# Confirm updated missing values\n",
        "print(\"\\nMissing values after handling:\\n\", df.isnull().sum())\n"
      ]
    },
    {
      "cell_type": "markdown",
      "metadata": {
        "id": "uYVOlmerk5_2"
      },
      "source": [
        "### 🔧 Try It Yourself – Part 3\n",
        "\n",
        "\n",
        "There are still some missing values in:\n",
        "\n",
        "- `over_15mins_calls_per_month`\n",
        "- `considering_change_of_plan`\n",
        "\n",
        "Decide how to handle them based on what makes the most sense:\n",
        "\n",
        "- Should you fill them with 0, the median, or something else?\n",
        "- For categories, would a placeholder like \"unknown\" or the most common value work?\n",
        "- Or is it better to drop those rows?\n",
        "\n",
        "1. Write and execute code to handle the missing values in the remaining two columns.\n",
        "2. Use `df.isnull().sum()` to confirm all missing values are handled.\n",
        "\n"
      ]
    },
    {
      "cell_type": "code",
      "execution_count": 53,
      "metadata": {
        "id": "yTFPZdink5Ua",
        "colab": {
          "base_uri": "https://localhost:8080/"
        },
        "outputId": "bb979e09-6e2f-4a3a-c572-84af5665cad6"
      },
      "outputs": [
        {
          "output_type": "stream",
          "name": "stdout",
          "text": [
            "college                        0\n",
            "income                         0\n",
            "data_overage_mb                0\n",
            "data_leftover_mb               0\n",
            "data_mb_used                   0\n",
            "text_message_count             0\n",
            "house                          0\n",
            "handset_price                  0\n",
            "over_15mins_calls_per_month    0\n",
            "average_call_duration          0\n",
            "reported_satisfaction          0\n",
            "reported_usage_level           0\n",
            "considering_change_of_plan     0\n",
            "leave                          0\n",
            "id                             0\n",
            "operating_system               0\n",
            "dtype: int64\n"
          ]
        }
      ],
      "source": [
        "# Add code here 🔧\n",
        "df.loc[:, 'over_15mins_calls_per_month'] = df['over_15mins_calls_per_month'].fillna(0)\n",
        "\n",
        "mode_value = df['considering_change_of_plan'].mode()[0]\n",
        "df.loc[:, 'considering_change_of_plan'] = df['considering_change_of_plan'].fillna(mode_value)\n",
        "\n",
        "print(df.isnull().sum())\n"
      ]
    },
    {
      "cell_type": "markdown",
      "metadata": {
        "id": "wGSRC2UsTipt"
      },
      "source": [
        "## Part 4: Remove Duplicate Rows\n",
        "\n",
        "Sometimes the same row appears more than once due to data entry or processing mistakes. It's important to check for and remove these duplicates.\n",
        "\n",
        "Think about:\n",
        "- Are there rows that are exactly the same?\n",
        "- If duplicates exist, should you keep the first one, the last one, or none?\n",
        "\n",
        "Why this matters:\n",
        "Duplicate rows can inflate totals, distort statistics, and lead to inaccurate conclusions.\n"
      ]
    },
    {
      "cell_type": "code",
      "execution_count": 54,
      "metadata": {
        "id": "1TOElN0LTmZD",
        "colab": {
          "base_uri": "https://localhost:8080/"
        },
        "outputId": "30df52f5-248e-445f-ab32-6107cec83559"
      },
      "outputs": [
        {
          "output_type": "stream",
          "name": "stdout",
          "text": [
            "Number of duplicate rows: 17\n",
            "Remaining rows after removing duplicates: 14989\n"
          ]
        }
      ],
      "source": [
        "# Check for exact duplicates\n",
        "print(f\"Number of duplicate rows: {df.duplicated().sum()}\")\n",
        "\n",
        "# Remove them, keeping the first occurrence\n",
        "df = df.drop_duplicates()\n",
        "\n",
        "# Confirm result\n",
        "print(f\"Remaining rows after removing duplicates: {len(df)}\")"
      ]
    },
    {
      "cell_type": "markdown",
      "metadata": {
        "id": "iL3PCXy2Tl4z"
      },
      "source": [
        "### 🔧 Try It Yourself – Part 4\n",
        "\n",
        "1. Use `copied_df.duplicated().sum()` to count how many duplicates are in your dataset.\n",
        "2. Try using `copied_df.drop_duplicates(keep='last')` instead — what changes?\n",
        "3. Explore whether duplicate rows share the same ID or just values across all columns and comment on your observation.\n"
      ]
    },
    {
      "cell_type": "code",
      "execution_count": 55,
      "metadata": {
        "id": "UyFVNN7fTtWq",
        "colab": {
          "base_uri": "https://localhost:8080/"
        },
        "outputId": "70042f28-47d3-43bf-e7c0-5f5721164840"
      },
      "outputs": [
        {
          "output_type": "stream",
          "name": "stdout",
          "text": [
            "Number of duplicates: 17\n",
            "Rows after removing duplicates: 14999\n"
          ]
        }
      ],
      "source": [
        "# 🔧 Add code here:\n",
        "print(\"Number of duplicates:\", copied_df.duplicated().sum())\n",
        "\n",
        "dedup_df = copied_df.drop_duplicates(keep='last')\n",
        "print(\"Rows after removing duplicates:\", dedup_df.shape[0])"
      ]
    },
    {
      "cell_type": "markdown",
      "metadata": {
        "id": "-CJNfob8qeGi"
      },
      "source": [
        "🔧 Add comment here:</br>\n",
        "- Duplicates likely occur when the same customer is entered multiple times.\n",
        "- They may share the same ID or identical values across all columns."
      ]
    },
    {
      "cell_type": "markdown",
      "metadata": {
        "id": "IrGThmZxTsdG"
      },
      "source": [
        "## Part 5: Identify and Remove Obvious Outliers\n",
        "\n",
        "Outliers are values that fall far outside the normal range. They can come from data entry mistakes or rare cases.\n",
        "\n",
        "- Use summary statistics or visual tools (like boxplots) to find them.\n",
        "- Look for clearly unrealistic values — e.g., negative prices or extremely high data usage.\n",
        "- Decide how to handle them:\n",
        "  - Remove if they’re errors.\n",
        "  - Keep if they’re valid but rare — or cap them if needed.\n",
        "\n",
        "Outliers can distort averages, stretch visualizations, and mislead models, so it’s important to address them carefully.\n",
        "\n"
      ]
    },
    {
      "cell_type": "code",
      "execution_count": 56,
      "metadata": {
        "id": "yQkgPvH-TyV-",
        "colab": {
          "base_uri": "https://localhost:8080/"
        },
        "outputId": "238b70ad-5290-4348-93a2-7c4be759e48e"
      },
      "outputs": [
        {
          "output_type": "stream",
          "name": "stdout",
          "text": [
            "Shape after removing obvious outliers: (14986, 16)\n"
          ]
        }
      ],
      "source": [
        "# Remove negative or nonsensical values using business rules\n",
        "\n",
        "# Example: remove rows where 'handset_price' is negative\n",
        "df = df[df['handset_price'] >= 0]\n",
        "\n",
        "# Example: remove rows with unusually long call durations\n",
        "df = df[df['average_call_duration'] < 1000]\n",
        "\n",
        "# Example: remove rows with extremely high text message counts\n",
        "df = df[df['text_message_count'] < 1000]\n",
        "\n",
        "# View shape after outlier filtering\n",
        "print(\"Shape after removing obvious outliers:\", df.shape)\n"
      ]
    },
    {
      "cell_type": "markdown",
      "metadata": {
        "id": "hs44Te_xT1x0"
      },
      "source": [
        "### 🔧 Try It Yourself – Part 5\n",
        "\n",
        "1. Use `df.describe()` to look for columns with extreme minimum or maximum values.\n",
        "2. Set a threshold for what you think is \"too high\" or \"too low\" for:\n",
        "  - `data_mb_used`\n",
        "  - `over_15mins_calls_per_month`\n",
        "  - `income`\n",
        "3. Remove those outliers using boolean filtering like `df = df[df['column'] < threshold]`"
      ]
    },
    {
      "cell_type": "code",
      "execution_count": 57,
      "metadata": {
        "id": "GZht29q2U_qz",
        "colab": {
          "base_uri": "https://localhost:8080/"
        },
        "outputId": "4ee5cfe2-e107-4961-e87b-1718f3766d28"
      },
      "outputs": [
        {
          "output_type": "stream",
          "name": "stdout",
          "text": [
            "              income  data_overage_mb  data_leftover_mb  data_mb_used  \\\n",
            "count   14986.000000     14986.000000      14986.000000  14986.000000   \n",
            "mean   241977.965768       153.510543         37.262045   4201.313760   \n",
            "std    109612.549926       113.011748         28.120274   2196.751708   \n",
            "min    -65000.000000         0.000000          0.000000    400.000000   \n",
            "25%    147808.250000        54.000000         12.000000   2304.000000   \n",
            "50%    241653.000000       151.000000         34.000000   4221.000000   \n",
            "75%    336442.000000       242.000000         62.000000   6063.000000   \n",
            "max    432000.000000       380.000000         89.000000   8000.000000   \n",
            "\n",
            "       text_message_count  handset_price  over_15mins_calls_per_month  \\\n",
            "count        14986.000000   14986.000000                 14986.000000   \n",
            "mean           135.626985     795.018617                    10.567530   \n",
            "std             48.835016    1235.982599                     8.402473   \n",
            "min             52.000000     215.000000                     0.000000   \n",
            "25%             93.000000     499.250000                     3.000000   \n",
            "50%            135.000000     777.000000                     9.000000   \n",
            "75%            178.000000    1062.000000                    17.000000   \n",
            "max            220.000000  125000.000000                    35.000000   \n",
            "\n",
            "       average_call_duration            id  \n",
            "count           14986.000000  14986.000000  \n",
            "mean                9.731149  11861.289604  \n",
            "std                 5.178082   6812.499283  \n",
            "min                 1.000000      2.000000  \n",
            "25%                 5.000000   6139.000000  \n",
            "50%                10.000000  11763.500000  \n",
            "75%                14.000000  17398.000000  \n",
            "max                19.000000  25354.000000  \n",
            "Number of rows after remove outlier: (14986, 16)\n"
          ]
        }
      ],
      "source": [
        "# 🔧 add code here:\n",
        "print(df.describe())\n",
        "\n",
        "df = df[df['data_mb_used'] < 50000]\n",
        "df = df[df['over_15mins_calls_per_month'] < 200]\n",
        "df = df[df['income'] < 500000]\n",
        "print(\"Number of rows after remove outlier:\", df.shape)\n"
      ]
    },
    {
      "cell_type": "markdown",
      "metadata": {
        "id": "SDo8Cbb5T5ve"
      },
      "source": [
        "## Part 6: Handle Outliers Using Quantiles\n",
        "\n",
        "Instead of removing outliers, we can limit their impact by capping extreme values — a method known as **Winsorizing**.\n",
        "\n",
        "### How to Do It:\n",
        "- Use `.quantile()` to identify the 1st and 99th percentiles (or other thresholds).\n",
        "- Use `.clip()` to cap values within that range.\n",
        "\n",
        "This keeps your dataset intact while reducing the influence of extreme values on your analysis or model.\n",
        "\n"
      ]
    },
    {
      "cell_type": "code",
      "execution_count": 58,
      "metadata": {
        "id": "5MsTpfh1T-MA"
      },
      "outputs": [],
      "source": [
        "# Calculate 1st and 99th percentiles for income\n",
        "income_min, income_max = df['income'].quantile([0.01, 0.99])\n",
        "\n",
        "# Use .loc to avoid SettingWithCopyWarning and ensure assignment modifies the original DataFrame\n",
        "df.loc[:, 'income'] = df['income'].clip(lower=income_min, upper=income_max)\n",
        "\n",
        "# Clip 'data_mb_used' to within 1st and 99th percentiles\n",
        "usage_min, usage_max = df['data_mb_used'].quantile([0.01, 0.99])\n",
        "df.loc[:, 'data_mb_used'] = df['data_mb_used'].clip(lower=usage_min, upper=usage_max)\n",
        "\n",
        "# Clip 'average_call_duration' to reduce the effect of extreme outliers\n",
        "call_min, call_max = df['average_call_duration'].quantile([0.01, 0.99])\n",
        "df.loc[:, 'average_call_duration'] = df['average_call_duration'].clip(lower=call_min, upper=call_max)\n",
        "\n"
      ]
    },
    {
      "cell_type": "markdown",
      "metadata": {
        "id": "Kl2KH2laUPhJ"
      },
      "source": [
        "### 🔧 Try It Yourself – Part 6\n",
        "\n",
        "1. Use `.quantile([0.01, 0.99])` to find the range for:\n",
        "  - `text_message_count`\n",
        "  - `over_15mins_calls_per_month`\n",
        "2. Apply `.clip(lower=..., upper=...)` to reduce the impact of those outliers\n",
        "3. Compare the `.describe()` output before and after clipping and comment on what you observe\n"
      ]
    },
    {
      "cell_type": "code",
      "execution_count": 59,
      "metadata": {
        "id": "zddKz_siUTXm",
        "colab": {
          "base_uri": "https://localhost:8080/"
        },
        "outputId": "717ab2dc-d79d-4528-e046-a05a64e6c44d"
      },
      "outputs": [
        {
          "output_type": "stream",
          "name": "stdout",
          "text": [
            "After clipping:\n",
            "        text_message_count  over_15mins_calls_per_month\n",
            "count        14986.000000                 14986.000000\n",
            "mean           135.626318                    10.556453\n",
            "std             48.811500                     8.371730\n",
            "min             53.000000                     0.000000\n",
            "25%             93.000000                     3.000000\n",
            "50%            135.000000                     9.000000\n",
            "75%            178.000000                    17.000000\n",
            "max            219.000000                    33.000000\n"
          ]
        }
      ],
      "source": [
        "# 🔧 Add code here\n",
        "txt_min, txt_max = df['text_message_count'].quantile([0.01, 0.99])\n",
        "df.loc[:, 'text_message_count'] = df['text_message_count'].clip(lower=txt_min, upper=txt_max)\n",
        "\n",
        "calls_min, calls_max = df['over_15mins_calls_per_month'].quantile([0.01, 0.99])\n",
        "df.loc[:, 'over_15mins_calls_per_month'] = df['over_15mins_calls_per_month'].clip(lower=calls_min, upper=calls_max)\n",
        "\n",
        "print(\"After clipping:\\n\", df[['text_message_count','over_15mins_calls_per_month']].describe())\n"
      ]
    },
    {
      "cell_type": "markdown",
      "metadata": {
        "id": "rwiYJnFnrNLq"
      },
      "source": [
        "🔧 Add comment here:</br>\n",
        "- Before clipping, the max values were extreme outliers.</br>\n",
        "- After clipping, they are capped at the 99th percentile, making the distribution more stable.\n"
      ]
    },
    {
      "cell_type": "markdown",
      "metadata": {
        "id": "FpSGvaBmT_9Y"
      },
      "source": [
        "## 🔧 Part 7: Reflection (100 words or less per question)\n",
        "\n",
        "1. Which step fixed the most issues in the dataset?\n",
        "2. What surprised you about the structure or values?\n",
        "3. Do you feel this data is now ready for transformation in Lab 7?\n"
      ]
    },
    {
      "cell_type": "markdown",
      "metadata": {
        "id": "srnE_g7zULEm"
      },
      "source": [
        "\n",
        "---\n",
        "🔧 **Add comment here:**\n",
        "\n",
        "---\n",
        "1. The missing value handling step fixed the most issues because it filled gaps across multiple important columns. </br>\n",
        "2. I was surprised by the extreme outliers in income and call duration — some values were clearly unrealistic.  </br>\n",
        "3. Yes, after handling missing values, removing duplicates, and treating outliers, the dataset is consistent and ready for transformations in Lab 7.  \n",
        "\n",
        "\n"
      ]
    }
  ],
  "metadata": {
    "colab": {
      "provenance": [],
      "include_colab_link": true
    },
    "kernelspec": {
      "display_name": "Python 3",
      "name": "python3"
    },
    "language_info": {
      "name": "python"
    }
  },
  "nbformat": 4,
  "nbformat_minor": 0
}
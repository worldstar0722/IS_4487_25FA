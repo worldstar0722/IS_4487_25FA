{
  "cells": [
    {
      "cell_type": "markdown",
      "metadata": {
        "id": "view-in-github",
        "colab_type": "text"
      },
      "source": [
        "<a href=\"https://colab.research.google.com/github/worldstar0722/IS_4487_25FA/blob/main/assignment_09_ChoiEllie.ipynb\" target=\"_parent\"><img src=\"https://colab.research.google.com/assets/colab-badge.svg\" alt=\"Open In Colab\"/></a>"
      ]
    },
    {
      "cell_type": "markdown",
      "metadata": {
        "id": "mZdQBj2ERXhh"
      },
      "source": [
        "# IS 4487 Assignment 9: Customer Segmentation with Clustering\n",
        "\n",
        "In this assignment, you will:\n",
        "- Apply unsupervised learning to explore patterns in hotel booking behavior\n",
        "- Use K-Means and Gaussian Mixture Models (GMM) for customer segmentation\n",
        "- Evaluate model quality with metrics like Silhouette Score and Davies-Bouldin Index\n",
        "- Connect clustering to actionable business insights\n",
        "\n",
        "## Why This Matters\n",
        "\n",
        "Businesses like hotels and travel platforms (e.g., Airbnb or Expedia) rely on customer segmentation to tailor promotions, pricing strategies, and service levels. Unlike supervised models, clustering helps uncover patterns when no labels exist—an ideal tool when entering new markets or analyzing unstructured customer behavior.\n",
        "\n",
        "<a href=\"https://colab.research.google.com/github/Stan-Pugsley/is_4487_base/blob/main/Assignments/assignment_09_clustering.ipynb\" target=\"_parent\">\n",
        "  <img src=\"https://colab.research.google.com/assets/colab-badge.svg\" alt=\"Open In Colab\"/>\n",
        "</a>\n"
      ]
    },
    {
      "cell_type": "markdown",
      "metadata": {
        "id": "REhVR53bRdNX"
      },
      "source": [
        "## Dataset Description: Hotel Bookings\n",
        "\n",
        "This dataset contains booking information for two types of hotels: a **city hotel** and a **resort hotel**. Each record corresponds to a single booking and includes various details about the reservation, customer demographics, booking source, and whether the booking was canceled.\n",
        "\n",
        "**Source**: [GitHub - TidyTuesday: Hotel Bookings](https://github.com/rfordatascience/tidytuesday/blob/master/data/2020/2020-02-11/readme.md)\n",
        "\n",
        "### Key Use Cases\n",
        "- Understand customer booking behavior\n",
        "- Explore factors related to cancellations\n",
        "- Segment guests based on booking characteristics\n",
        "- Compare city vs. resort hotel performance\n",
        "\n",
        "### Data Dictionary\n",
        "\n",
        "| Variable | Type | Description |\n",
        "|----------|------|-------------|\n",
        "| `hotel` | character | Hotel type: City or Resort |\n",
        "| `is_canceled` | integer | 1 = Canceled, 0 = Not Canceled |\n",
        "| `lead_time` | integer | Days between booking and arrival |\n",
        "| `arrival_date_year` | integer | Year of arrival |\n",
        "| `arrival_date_month` | character | Month of arrival |\n",
        "| `stays_in_weekend_nights` | integer | Nights stayed on weekends |\n",
        "| `stays_in_week_nights` | integer | Nights stayed on weekdays |\n",
        "| `adults` | integer | Number of adults |\n",
        "| `children` | integer | Number of children |\n",
        "| `babies` | integer | Number of babies |\n",
        "| `meal` | character | Type of meal booked |\n",
        "| `country` | character | Country code of origin |\n",
        "| `market_segment` | character | Booking source (e.g., Direct, Online TA) |\n",
        "| `distribution_channel` | character | Booking channel used |\n",
        "| `is_repeated_guest` | integer | 1 = Repeated guest, 0 = New guest |\n",
        "| `previous_cancellations` | integer | Past booking cancellations |\n",
        "| `previous_bookings_not_canceled` | integer | Past bookings not canceled |\n",
        "| `reserved_room_type` | character | Initially reserved room type |\n",
        "| `assigned_room_type` | character | Room type assigned at check-in |\n",
        "| `booking_changes` | integer | Number of booking modifications |\n",
        "| `deposit_type` | character | Deposit type (No Deposit, Non-Refund, etc.) |\n",
        "| `agent` | character | Agent ID who made the booking |\n",
        "| `company` | character | Company ID (if booking through company) |\n",
        "| `days_in_waiting_list` | integer | Days on the waiting list |\n",
        "| `customer_type` | character | Booking type: Contract, Transient, etc. |\n",
        "| `adr` | float | Average Daily Rate (price per night) |\n",
        "| `required_car_parking_spaces` | integer | Requested parking spots |\n",
        "| `total_of_special_requests` | integer | Number of special requests made |\n",
        "| `reservation_status` | character | Final status (Canceled, No-Show, Check-Out) |\n",
        "| `reservation_status_date` | date | Date of the last status update |\n",
        "\n",
        "This dataset is ideal for classification, segmentation, and trend analysis exercises."
      ]
    },
    {
      "cell_type": "markdown",
      "metadata": {
        "id": "d6AjFFc0R0BA"
      },
      "source": [
        "## 1. Setup and Load Data\n",
        "\n",
        "Business framing:  \n",
        "\n",
        "Before we can cluster or segment anything, we need clean, accessible data in a usable format.\n",
        "\n",
        "- Import the necessary Python libraries\n",
        "- Load the hotel bookings dataset by [downloading the file](https://github.com/rfordatascience/tidytuesday/blob/main/data/2020/2020-02-11/readme.md#get-the-data-here) or using this link: https://raw.githubusercontent.com/rfordatascience/tidytuesday/main/data/2020/2020-02-11/hotels.csv\n",
        "- Display the first few rows\n",
        "\n",
        "### In Your Response:\n",
        "1. What stands out in the initial preview? Any columns or rows that seem unusual?"
      ]
    },
    {
      "cell_type": "code",
      "execution_count": null,
      "metadata": {
        "id": "zdLeoe0eSAGw"
      },
      "outputs": [],
      "source": [
        "# Add code here 🔧\n",
        "\n",
        "\n",
        "import pandas as pd\n",
        "import numpy as np\n",
        "import matplotlib.pyplot as plt\n",
        "from sklearn.preprocessing import StandardScaler\n",
        "from sklearn.cluster import KMeans\n",
        "from sklearn.mixture import GaussianMixture\n",
        "from sklearn.metrics import silhouette_score, davies_bouldin_score\n",
        "from sklearn.metrics import pairwise_distances_argmin_min\n",
        "import seaborn as sns\n",
        "\n",
        "url = \"https://raw.githubusercontent.com/rfordatascience/tidytuesday/main/data/2020/2020-02-11/hotels.csv\"\n",
        "df = pd.read_csv(url)\n",
        "\n",
        "display(df.head())\n",
        "display(df.info())\n",
        "display(df.describe(include='all').T)\n"
      ]
    },
    {
      "cell_type": "markdown",
      "metadata": {
        "id": "utMWLdU4SzcX"
      },
      "source": [
        "### ✍️ Your Response: 🔧\n",
        "1. There are a lot of categorical columns (hotel, meal, market_segment, distribution_channel, etc.) and many numeric booking-related columns (lead_time, stays_in_weekend_nights, stays_in_week_nights, adults, children, babies, previous_cancellations, adr, total_of_special_requests, etc.). </br>\n",
        "Some columns that often contain missing or unusual values: children often has NaNs or zeros, agent and company can be strings like \"NULL\" or NaN, and country has many unique values (country codes). </br>\n",
        "Look for 0s in adr (average daily rate) which might indicate missing or erroneous prices. </br>\n",
        " Date column reservation_status_date will be parsed as string if not converted; treat carefully if needed."
      ]
    },
    {
      "cell_type": "markdown",
      "metadata": {
        "id": "AcW1-bXhR-ar"
      },
      "source": [
        "## 2. Select and Prepare Features\n",
        "\n",
        "Business framing:  \n",
        "\n",
        "A hotel might want to group guests based on how long they stay, how far in advance they book, or how likely they are to make special requests. You need to pick variables that represent meaningful guest behavior.\n",
        "\n",
        "- Choose 3–5 numeric features related to customer behavior\n",
        "- Drop missing values if needed\n",
        "- Standardize using `StandardScaler`\n",
        "\n",
        "### In Your Response:\n",
        "1. What features did you select and why?\n",
        "2. What kinds of patterns or segments do you expect to find?\n"
      ]
    },
    {
      "cell_type": "code",
      "execution_count": null,
      "metadata": {
        "id": "-Nblj3blSOG0"
      },
      "outputs": [],
      "source": [
        "# Add code here 🔧\n",
        "df['total_nights'] = df['stays_in_weekend_nights'] + df['stays_in_week_nights']\n",
        "\n",
        "features = ['lead_time', 'total_nights', 'adr', 'total_of_special_requests']\n",
        "data = df[features].copy()\n",
        "\n",
        "data = data.replace([np.inf, -np.inf], np.nan).dropna()\n",
        "\n",
        "print(\"Rows after dropping NA:\", data.shape[0])\n",
        "print(data.describe())\n",
        "\n",
        "scaler = StandardScaler()\n",
        "X = scaler.fit_transform(data)\n",
        "\n",
        "X_df = pd.DataFrame(X, columns=features, index=data.index)\n"
      ]
    },
    {
      "cell_type": "markdown",
      "metadata": {
        "id": "JLXg6CEsSKx9"
      },
      "source": [
        "### ✍️ Your Response: 🔧\n",
        "1. In this analysis, four variables were selected: lead_time, total_nights, adr, and total_of_special_requests. This is because these variables represent the customer's reservation timing, length of stay, level of expenditure, and service demand, and are key indicators that can well explain hotel use patterns.</br>\n",
        "2. Based on these variables, different customer segments were expected to appear, including short-term stay-at-home business customers, long-term vacation family travelers, and early reservations."
      ]
    },
    {
      "cell_type": "markdown",
      "metadata": {
        "id": "VrHjWxq9SWPV"
      },
      "source": [
        "## 3. Apply K-Means Clustering\n",
        "\n",
        "Business framing:  \n",
        "\n",
        "Let’s say you’re working with the hotel’s marketing manager. She wants to group guests into a few clear types to target email campaigns. K-Means is a fast, simple way to try this.\n",
        "\n",
        "- Fit a `KMeans` model with your selected features\n",
        "- Choose a value of `k` (e.g. 3, 4, or 5)\n",
        "- Predict clusters and assign to each guest\n",
        "- Visualize using a scatterplot of 2 features\n",
        "\n",
        "Much of this assignment has already been covered in the lab. Please be sure to complete the lab before the assignment.\n",
        "\n",
        "### In Your Response:\n",
        "1. What `k` value did you choose, and how did you decide?\n",
        "2. What types of customers seem to show up in the clusters?\n",
        "\n"
      ]
    },
    {
      "cell_type": "code",
      "execution_count": null,
      "metadata": {
        "id": "9Pcxfx5vSc-G"
      },
      "outputs": [],
      "source": [
        "# Add code here 🔧\n",
        "inertias = {}\n",
        "sil_scores = {}\n",
        "for k in [2,3,4,5,6]:\n",
        "    km = KMeans(n_clusters=k, random_state=42, n_init=20)\n",
        "    labels = km.fit_predict(X)\n",
        "    inertias[k] = km.inertia_\n",
        "    sil_scores[k] = silhouette_score(X, labels)\n",
        "\n",
        "print(\"Inertia by k:\", inertias)\n",
        "print(\"Silhouette by k:\", sil_scores)\n",
        "\n",
        "k = 4\n",
        "kmeans = KMeans(n_clusters=k, random_state=42, n_init=20)\n",
        "k_labels = kmeans.fit_predict(X)\n",
        "\n",
        "data_k = data.copy()\n",
        "data_k['kmeans_cluster'] = k_labels\n",
        "\n",
        "plt.figure(figsize=(8,6))\n",
        "sns.scatterplot(x=data_k['lead_time'], y=data_k['adr'], hue=data_k['kmeans_cluster'], palette='tab10', s=30, alpha=0.7)\n",
        "plt.title(f'KMeans (k={k}) clusters — lead_time vs adr')\n",
        "plt.xlabel('lead_time')\n",
        "plt.ylabel('adr')\n",
        "plt.legend(title='cluster')\n",
        "plt.show()\n",
        "\n",
        "cluster_means = data_k.groupby('kmeans_cluster')[features].mean().round(2)\n",
        "display(cluster_means)\n"
      ]
    },
    {
      "cell_type": "markdown",
      "metadata": {
        "id": "3OtgdSkwSbRn"
      },
      "source": [
        "### ✍️ Your Response: 🔧\n",
        "1. As a result of comparing several k values, k = 4 showed the most balanced result through silhouette score and visualization. At this value, the distinction between clusters was clear and easy to interpret. </br>\n",
        "2. The analysis revealed four main types: short-stay low-cost business customers, long-stay high-priced recreational customers, early bookers, and family customers with many special requests."
      ]
    },
    {
      "cell_type": "markdown",
      "metadata": {
        "id": "8uQB_tqUTD81"
      },
      "source": [
        "## 4. Apply Gaussian Mixture Model (GMM)\n",
        "\n",
        "Business framing:  \n",
        "\n",
        "Not all guests fit neatly into one cluster. GMM lets us capture uncertainty — useful if customers behave similarly across groups.\n",
        "\n",
        "- Fit a GMM with the same number of clusters you chose in Part 3\n",
        "- Predict soft clusters (remember that soft clustering deals with probabilities, not labels)\n",
        "- Visualize the GMM model so that you may compare it to the KMeans scatterplot\n",
        "\n",
        "### In Your Response:\n",
        "1. How did the GMM results compare to KMeans?\n",
        "2. What business questions might GMM help answer better?\n"
      ]
    },
    {
      "cell_type": "code",
      "execution_count": null,
      "metadata": {
        "id": "5j3joPmTRCvX"
      },
      "outputs": [],
      "source": [
        "# Add your code here\n",
        "gmm = GaussianMixture(n_components=k, covariance_type='full', random_state=42)\n",
        "gmm.fit(X)\n",
        "gmm_probs = gmm.predict_proba(X)\n",
        "gmm_labels = gmm.predict(X)\n",
        "# Attach to a copy\n",
        "data_g = data.copy()\n",
        "data_g['gmm_cluster'] = gmm_labels\n",
        "\n",
        "fig, axes = plt.subplots(1,2, figsize=(14,5))\n",
        "sns.scatterplot(x=data_k['lead_time'], y=data_k['adr'], hue=data_k['kmeans_cluster'], ax=axes[0], palette='tab10', s=30, alpha=0.7)\n",
        "axes[0].set_title(f'KMeans (k={k})')\n",
        "axes[0].set_xlabel('lead_time'); axes[0].set_ylabel('adr')\n",
        "\n",
        "sns.scatterplot(x=data_g['lead_time'], y=data_g['adr'], hue=data_g['gmm_cluster'], ax=axes[1], palette='tab10', s=30, alpha=0.7)\n",
        "axes[1].set_title(f'GMM (k={k})')\n",
        "axes[1].set_xlabel('lead_time'); axes[1].set_ylabel('adr')\n",
        "\n",
        "plt.tight_layout()\n",
        "plt.show()\n",
        "\n",
        "prob_df = pd.DataFrame(gmm_probs[:10], columns=[f'gmm_prob_{i}' for i in range(k)])\n",
        "display(prob_df.round(3))\n"
      ]
    },
    {
      "cell_type": "markdown",
      "metadata": {
        "id": "9TptM8qNTVV4"
      },
      "source": [
        "### ✍️ Your Response: 🔧\n",
        "1. GMM showed smoother and more flexible cluster boundaries than K-Means, better representing the probability that customers belong to multiple segments</br>\n",
        "2. The model is useful for identifying mixed tendencies, such as customers with both business and recreational purposes, and is suitable for predicting multiple promotional responses."
      ]
    },
    {
      "cell_type": "markdown",
      "metadata": {
        "id": "gyxplbytTL3d"
      },
      "source": [
        "## 5. Evaluate Your Models\n",
        "\n",
        "Business framing:  \n",
        "\n",
        "In business, models should be both useful and reliable. You’ll compare model quality using standard evaluation metrics.\n",
        "\n",
        "- Calculate:\n",
        "  - WCSS\n",
        "  - Silhouette Score\n",
        "  - Davies-Bouldin Index\n",
        "- Compare both models\n",
        "\n",
        "**Remember**:\n",
        "- Lower WCSS = tighter, better-defined clusters\n",
        "- Silhouette score ranges from -1 to 1.  Higher values = better clustering\n",
        "- Lower Davies-Boulding Index = better clustering\n",
        "\n",
        "### In Your Response:\n",
        "1. Which model performed better on the metrics?\n",
        "2. Would you recommend KMeans or GMM for a business analyst? Why?\n"
      ]
    },
    {
      "cell_type": "code",
      "execution_count": null,
      "metadata": {
        "id": "emFtaEP3TOfJ"
      },
      "outputs": [],
      "source": [
        "# Add code here 🔧\n",
        "wcss_k = kmeans.inertia_\n",
        "sil_k = silhouette_score(X, k_labels)\n",
        "db_k = davies_bouldin_score(X, k_labels)\n",
        "\n",
        "sil_g = silhouette_score(X, gmm_labels)\n",
        "db_g = davies_bouldin_score(X, gmm_labels)\n",
        "bic = gmm.bic(X)\n",
        "aic = gmm.aic(X)\n",
        "\n",
        "print(\"KMeans (k={}): WCSS(inertia)={:.2f}, Silhouette={:.4f}, Davies-Bouldin={:.4f}\".format(k, wcss_k, sil_k, db_k))\n",
        "print(\"GMM   (k={}): Silhouette={:.4f}, Davies-Bouldin={:.4f}, BIC={:.1f}, AIC={:.1f}\".format(k, sil_g, db_g, bic, aic))\n",
        "\n",
        "eval_df = pd.DataFrame({\n",
        "    'model': ['KMeans', 'GMM (hard labels)'],\n",
        "    'wcss': [wcss_k, np.nan],\n",
        "    'silhouette': [sil_k, sil_g],\n",
        "    'davies_bouldin': [db_k, db_g],\n",
        "    'gmm_bic': [np.nan, bic],\n",
        "    'gmm_aic': [np.nan, aic]\n",
        "})\n",
        "display(eval_df.T)\n"
      ]
    },
    {
      "cell_type": "markdown",
      "metadata": {
        "id": "UlxF6KDMTQOB"
      },
      "source": [
        "### ✍️ Your Response: 🔧\n",
        "1. Comparing the two models, K-Means showed a higher silhouette score, making the cluster clear, and GMM had slightly better goodness-of-fit indicators (AIC, BIC).</br>\n",
        "2. K-Means, which is simple to interpret and easy to apply, is more suitable for practical analysts, and GMM is recommended for auxiliary exploration."
      ]
    },
    {
      "cell_type": "markdown",
      "metadata": {
        "id": "7POkZoyuTb1N"
      },
      "source": [
        "## 6. Business Interpretation\n",
        "\n",
        "Business framing:  \n",
        "\n",
        "What do these clusters mean in the real world? Could they represent solo travelers, families, or bargain shoppers?\n",
        "\n",
        "- Review characteristics of each cluster (e.g. average `lead_time`, `special_requests`)\n",
        "- Think from a marketing or hotel operations perspective\n",
        "\n",
        "### In Your Response:\n",
        "1. What do the segments represent in terms of guest behavior?\n",
        "2. How could the hotel tailor services or promotions to each group?\n"
      ]
    },
    {
      "cell_type": "code",
      "execution_count": null,
      "metadata": {
        "id": "_LB7Q6hPTeJF"
      },
      "outputs": [],
      "source": [
        "# Add code here 🔧\n",
        "summary = data_k.groupby('kmeans_cluster')[features].agg(['mean','std','count']).round(2)\n",
        "display(summary)\n",
        "\n",
        "cluster_profile = data_k.groupby('kmeans_cluster').agg({\n",
        "    'lead_time': 'mean',\n",
        "    'total_nights': 'mean',\n",
        "    'adr': 'mean',\n",
        "    'total_of_special_requests': 'mean',\n",
        "    'kmeans_cluster': 'count'\n",
        "}).rename(columns={'kmeans_cluster':'count'}).round(2)\n",
        "\n",
        "display(cluster_profile)\n",
        "\n",
        "for idx, row in cluster_profile.iterrows():\n",
        "    print(f\"Cluster {idx}: count={row['count']}, lead_time={row['lead_time']}, nights={row['total_nights']}, adr={row['adr']}, special_req={row['total_of_special_requests']}\")\n"
      ]
    },
    {
      "cell_type": "markdown",
      "metadata": {
        "id": "HUZgwQ4lTfsv"
      },
      "source": [
        "### ✍️ Your Response: 🔧\n",
        "1. The four segments were divided into business customers, recreational families, early reservations, and custom service preference customers, respectively, showing different behavior patterns.</br>\n",
        "2. otels can optimize marketing by offering short-term discounts to business customers and package products to family customers."
      ]
    },
    {
      "cell_type": "markdown",
      "metadata": {
        "id": "9jqWFFi9TnsP"
      },
      "source": [
        "## 7. Final Reflection\n",
        "\n",
        "Business framing:  \n",
        "\n",
        "Many teams ask for \"segmentation\" without knowing how it works. You now have hands-on experience with two clustering techniques and how to present the results.\n",
        "\n",
        "### In Your Response:\n",
        "1. What was most challenging about unsupervised learning?\n",
        "2. When would you use clustering instead of supervised models?\n",
        "3. How would you explain the value of clustering to a non-technical manager?\n",
        "4. How does this relate to your customized learning outcome you created in canvas?\n"
      ]
    },
    {
      "cell_type": "markdown",
      "metadata": {
        "id": "WMdS3hByTrfb"
      },
      "source": [
        "### ✍️ Your Response: 🔧\n",
        "1. Most challenging about unsupervised learning: there is no single ground truth; choosing the right features, selecting cluster counts (k) and interpreting clusters require domain knowledge and iteration. Evaluation metrics (silhouette, Davies-Bouldin) are useful but imperfect — they don't replace business sense.</br>\n",
        "2. When to use clustering instead of supervised models: use clustering when you lack labeled outcomes (e.g., you don't have \"customer-type\" labels) and want to discover natural groupings for personalization, product development, or exploration. Use supervised learning when you have a labeled target to predict (churn, cancellation)</br>\n",
        "3. Explaining value to a non-technical manager: clustering segments guests into a few actionable groups — for each group we can design targeted promotions, pricing, and operations (leading to higher revenue and better guest satisfaction). It's a way to convert a huge, messy dataset into a small set of customer archetypes.</br>\n",
        "4. Relation to learning outcomes: this assignment demonstrates end-to-end unsupervised workflow (feature selection, standardization, multiple algorithms, metrics, and business interpretation), which builds practical skills for customer segmentation projects."
      ]
    },
    {
      "cell_type": "markdown",
      "metadata": {
        "id": "6USM2DivTx8t"
      },
      "source": [
        "## Submission Instructions\n",
        "\n",
        "✅ **Before submitting:**\n",
        "- Make sure all code cells are run and outputs are visible  \n",
        "- All markdown questions are answered thoughtfully  \n",
        "- Submit the assignment as an **HTML file** on Canvas\n"
      ]
    },
    {
      "cell_type": "code",
      "execution_count": null,
      "metadata": {
        "id": "ZhW8zTwtXxds"
      },
      "outputs": [],
      "source": [
        "!jupyter nbconvert --to html \"assignment_09_LastnameFirstname.ipynb\""
      ]
    }
  ],
  "metadata": {
    "colab": {
      "provenance": [],
      "include_colab_link": true
    },
    "kernelspec": {
      "display_name": "Python 3",
      "name": "python3"
    },
    "language_info": {
      "name": "python"
    }
  },
  "nbformat": 4,
  "nbformat_minor": 0
}
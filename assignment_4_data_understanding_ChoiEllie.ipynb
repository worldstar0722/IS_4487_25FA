{
  "cells": [
    {
      "cell_type": "markdown",
      "metadata": {
        "id": "view-in-github",
        "colab_type": "text"
      },
      "source": [
        "<a href=\"https://colab.research.google.com/github/worldstar0722/IS_4487_25FA/blob/main/assignment_4_data_understanding_ChoiEllie.ipynb\" target=\"_parent\"><img src=\"https://colab.research.google.com/assets/colab-badge.svg\" alt=\"Open In Colab\"/></a>"
      ]
    },
    {
      "cell_type": "markdown",
      "metadata": {
        "id": "p_Yu45OYdj3Y"
      },
      "source": [
        "# IS4487 Week 4 - Assignment\n",
        "\n",
        "### Outline\n",
        "\n",
        "Our Goals with this Project:\n",
        "\n",
        "1. Import and review the data\n",
        "2. Perform EDA and Clean Data\n",
        "\n",
        "<a href=\"https://colab.research.google.com/github/Stan-Pugsley/is_4487_base/blob/main/Assignments/assignment_4_data_understanding.ipynb\" target=\"_parent\"><img src=\"https://colab.research.google.com/assets/colab-badge.svg\" alt=\"Open In Colab\"/></a>"
      ]
    },
    {
      "cell_type": "markdown",
      "metadata": {
        "id": "OZrtT0lUaEUT"
      },
      "source": [
        "### AdviseInvest Data Dictionary\n",
        "\n",
        "| Variable | Description | Type | Code |\n",
        "|:---|:---|:---|:---|\n",
        "| Answered | Customer response | Binary | 0: customer did not answer scheduled call; 1: customer answered scheduled call |\n",
        "| Income | Customer income in US dollars | Numeric | |\n",
        "| Female | Customer gender | Binary | 0: female; 1: male |\n",
        "| Age | Age in years | Numeric | |\n",
        "| Job | Nature of job | Categorical | 0 : unemployed; 1 : entry level position; 2 : midlevel position; 3 : management/ self-employed/ highly qualified employee/ officer |\n",
        "| Num_dependents | Number of people for whom the customer provides maintenance | Numeric | |\n",
        "| Rent | Customer rents | Binary | 0: no; 1: yes |\n",
        "| Own_res | Customer owns residence | Binary | 0: no; 1: yes |\n",
        "| New_car | Recent new car purchase | Binary | New car purchase in the last 3 months: 0: no, 1: yes |\n",
        "| Chk_acct | Checking account status | Categorical | 0 : no checking account; 1: checking < 200 USD; 2 : 200 < checking < 2000 USD; 3: 2000 < checking < 35000 USD; 4: >= 3500 USD |\n",
        "| Sav_acct | Average balance in savings account | Categorical | 0 : no savings account; 1 : 100 <= savings < 500 USD; 2 : 500 <= savings < 2000 USD; 3 : 2000 < savings < 35000 USD; 4: >= 3500 USD |\n",
        "| Num_accts | Number of accounts owned by customer | Numeric | |\n",
        "| Mobile | Mobile phone | Binary | 0: customer provided non‐mobile phone for follow‐up call; 1: customer provided mobile phone for follow‐up call |\n",
        "| Product | Type of product purchased after conversation with sales rep | Categorical | 0: customer did not answer call; 1: customer answered but did not purchase a product; 2: customer answered and purchased Beginner plan; 3: customer answered and purchased Intermediate plan; 4: customer answered and purchased Advanced plan |\n"
      ]
    },
    {
      "cell_type": "markdown",
      "metadata": {
        "id": "UE93RwXhgiJS"
      },
      "source": [
        "### Load Libraries\n",
        "\n",
        "Import the libraries you will need, such as:\n",
        "- Pandas\n",
        "- Sklearn\n",
        "- Matplotlib\n"
      ]
    },
    {
      "cell_type": "code",
      "execution_count": null,
      "metadata": {
        "id": "JYRZY5n0gfNe"
      },
      "outputs": [],
      "source": [
        "#Import libraries 🔧\n",
        "import pandas as pd\n",
        "import sklearn\n",
        "import matplotlib.pyplot as plt"
      ]
    },
    {
      "cell_type": "markdown",
      "metadata": {
        "id": "bREaXo8jfu-O"
      },
      "source": [
        "## Step 1: Initial Data Understanding\n",
        "\n",
        " - Import data from the AdviseInvest historical dataset into a dataframe (in GitHub go to Assignments > DataSets)\n",
        " - Describe or profile the dataframe\n",
        " - Look for any outliers, missing values, or duplicates"
      ]
    },
    {
      "cell_type": "code",
      "execution_count": null,
      "metadata": {
        "id": "6_FwprxVgR0e"
      },
      "outputs": [],
      "source": [
        "#Import the data 🔧\n",
        "url=\"https://raw.githubusercontent.com/Stan-Pugsley/is_4487_base/5f8fd2ba3629f320b7d128f2d917a8385c8cc0b3/DataSets/adviseinvest_historical_data.csv\"\n",
        "df = pd.read_csv(url)"
      ]
    },
    {
      "cell_type": "code",
      "execution_count": null,
      "metadata": {
        "id": "0wkRD0aBa_H7",
        "colab": {
          "base_uri": "https://localhost:8080/"
        },
        "outputId": "7bbb5b6c-5c48-478d-8d95-5f8ae0ca8145"
      },
      "outputs": [
        {
          "output_type": "stream",
          "name": "stdout",
          "text": [
            "<class 'pandas.core.frame.DataFrame'>\n",
            "RangeIndex: 29504 entries, 0 to 29503\n",
            "Data columns (total 14 columns):\n",
            " #   Column          Non-Null Count  Dtype  \n",
            "---  ------          --------------  -----  \n",
            " 0   answered        29504 non-null  int64  \n",
            " 1   income          29504 non-null  int64  \n",
            " 2   female          29504 non-null  object \n",
            " 3   age             29504 non-null  int64  \n",
            " 4   job             29504 non-null  int64  \n",
            " 5   num_dependents  29504 non-null  int64  \n",
            " 6   rent            29504 non-null  int64  \n",
            " 7   own_res         29504 non-null  int64  \n",
            " 8   new_car         29502 non-null  float64\n",
            " 9   chk_acct        29504 non-null  int64  \n",
            " 10  sav_acct        29504 non-null  int64  \n",
            " 11  num_accts       29504 non-null  int64  \n",
            " 12  mobile          29504 non-null  int64  \n",
            " 13  product         29504 non-null  int64  \n",
            "dtypes: float64(1), int64(12), object(1)\n",
            "memory usage: 3.2+ MB\n"
          ]
        }
      ],
      "source": [
        "#View the datatypes 🔧\n",
        "df.info()"
      ]
    },
    {
      "cell_type": "code",
      "execution_count": null,
      "metadata": {
        "id": "QkKLnfFrbEOS",
        "colab": {
          "base_uri": "https://localhost:8080/"
        },
        "outputId": "a848ee03-86d2-42af-9942-9ed6009e5c7b"
      },
      "outputs": [
        {
          "output_type": "stream",
          "name": "stdout",
          "text": [
            "Missing values per column:\n",
            " answered          0\n",
            "income            0\n",
            "female            0\n",
            "age               0\n",
            "job               0\n",
            "num_dependents    0\n",
            "rent              0\n",
            "own_res           0\n",
            "new_car           2\n",
            "chk_acct          0\n",
            "sav_acct          0\n",
            "num_accts         0\n",
            "mobile            0\n",
            "product           0\n",
            "dtype: int64\n",
            "\n",
            "Number of duplicates: 29035\n"
          ]
        }
      ],
      "source": [
        "#Describe the data 🔧\n",
        "df.describe(include=\"all\")\n",
        "print(\"Missing values per column:\\n\", df.isnull().sum())\n",
        "print(\"\\nNumber of duplicates:\", df.duplicated().sum())"
      ]
    },
    {
      "cell_type": "markdown",
      "metadata": {
        "id": "ZAMrpN3rDjik"
      },
      "source": [
        "# Step 2: Exploratory Data Analysis (EDA)\n",
        "- Explore the relationships between the target and independent variables\n",
        "- Create at least five charts to show the relationships, using different chart types that are approriate to the analysis\n",
        "- Ensure that all charts are clearly labeled and formatted"
      ]
    },
    {
      "cell_type": "code",
      "execution_count": null,
      "metadata": {
        "id": "b-wswJqUjsYK"
      },
      "outputs": [],
      "source": [
        "# Chart 1 🔧\n",
        "sns.countplot(x=\"Product\", data=df)\n",
        "plt.title(\"Distribution of Product Outcomes\")\n",
        "plt.xlabel(\"Product Code\")\n",
        "plt.ylabel(\"Count\")\n",
        "plt.show()"
      ]
    },
    {
      "cell_type": "code",
      "execution_count": null,
      "metadata": {
        "id": "4R9qKdQ9Djik"
      },
      "outputs": [],
      "source": [
        "# Chart 2 🔧\n",
        "sns.countplot(x=\"Answered\", hue=\"Mobile\", data=df)\n",
        "plt.title(\"Answered by Mobile Availability\")\n",
        "plt.xlabel(\"Answered (0=No, 1=Yes)\")\n",
        "plt.ylabel(\"Count\")\n",
        "plt.legend(title=\"Mobile\")\n",
        "plt.show()"
      ]
    },
    {
      "cell_type": "code",
      "execution_count": null,
      "metadata": {
        "id": "VjxlTxJpDjik"
      },
      "outputs": [],
      "source": [
        "# Chart 3 🔧\n",
        "sns.histplot(df[\"Income\"], bins=30, kde=True)\n",
        "plt.title(\"Income Distribution\")\n",
        "plt.xlabel(\"Income (USD)\")\n",
        "plt.ylabel(\"Frequency\")\n",
        "plt.show()"
      ]
    },
    {
      "cell_type": "code",
      "execution_count": null,
      "metadata": {
        "id": "ViuHfSU9Djik"
      },
      "outputs": [],
      "source": [
        "# Chart 4 🔧\n",
        "sns.boxplot(x=\"Product\", y=\"Age\", data=df)\n",
        "plt.title(\"Age Distribution by Product Outcome\")\n",
        "plt.xlabel(\"Product\")\n",
        "plt.ylabel(\"Age\")\n",
        "plt.show()"
      ]
    },
    {
      "cell_type": "code",
      "execution_count": null,
      "metadata": {
        "id": "CSjajGtYDjik"
      },
      "outputs": [],
      "source": [
        "# Chart 5\n",
        "job_product = pd.crosstab(df[\"Job\"], df[\"Product\"])\n",
        "sns.heatmap(job_product, annot=True, fmt=\"d\", cmap=\"Blues\")\n",
        "plt.title(\"Job vs Product Outcome\")\n",
        "plt.xlabel(\"Product\")\n",
        "plt.ylabel(\"Job\")\n",
        "plt.show()"
      ]
    },
    {
      "cell_type": "markdown",
      "metadata": {
        "id": "MzLoM10Eo2j3"
      },
      "source": [
        "# Step 3: Summarize Your Findings\n",
        "### 3.1: Are all of the variables useful and applicable to the business need?  (you should reference the target variable and whether other variables have are likely to be correlated with the target)\n",
        "The target variable is Product.  \n",
        "Answered, Income, Job, Age, Account-Related Variables (Chk_accct, Sav_accct, Num_acccts) are associated with purchases.  \n",
        "Rent, Own_res, and New_car may be less affected."
      ]
    },
    {
      "cell_type": "markdown",
      "metadata": {
        "id": "kwKdZ-BnDjik"
      },
      "source": [
        "### 3.2: In what ways could the dataset be improved?  Are there any data quality issues or data types that should be fixed?\n",
        "\n",
        "Some variables are numbers, but it is categorical code, so it is recommended to switch to category.  \n",
        "Outliers may be seen in Income, Age.  \n",
        "Missing values need to be supplemented.  \n",
        "It is clearer to change the variable name Female to Gender."
      ]
    },
    {
      "cell_type": "markdown",
      "metadata": {
        "id": "Rq5-LJxkDjik"
      },
      "source": [
        "## Submission Instructions\n",
        "\n",
        "✅ **Before submitting:**\n",
        "- Make sure all code cells are run and outputs are visible  \n",
        "- All markdown questions are answered thoughtfully  \n",
        "- Submit the assignment as an **HTML file** on Canvas"
      ]
    },
    {
      "cell_type": "code",
      "execution_count": null,
      "metadata": {
        "id": "DMPINxq6Djik"
      },
      "outputs": [],
      "source": [
        "!jupyter nbconvert --to html \"assignment_04_LastnameFirstname.ipynb\""
      ]
    }
  ],
  "metadata": {
    "colab": {
      "provenance": [],
      "include_colab_link": true
    },
    "kernelspec": {
      "display_name": "Python 3",
      "name": "python3"
    },
    "language_info": {
      "name": "python"
    }
  },
  "nbformat": 4,
  "nbformat_minor": 0
}
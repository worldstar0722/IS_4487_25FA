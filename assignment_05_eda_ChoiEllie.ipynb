{
  "cells": [
    {
      "cell_type": "markdown",
      "metadata": {
        "id": "view-in-github",
        "colab_type": "text"
      },
      "source": [
        "<a href=\"https://colab.research.google.com/github/worldstar0722/IS_4487_25FA/blob/main/assignment_05_eda_ChoiEllie.ipynb\" target=\"_parent\"><img src=\"https://colab.research.google.com/assets/colab-badge.svg\" alt=\"Open In Colab\"/></a>"
      ]
    },
    {
      "cell_type": "markdown",
      "metadata": {
        "id": "hNSUwN48JnW8"
      },
      "source": [
        "# IS 4487 Assignment 5: Exploratory Data Analysis (EDA) with Stakeholder Framing\n",
        "\n",
        "In this assignment, you will:\n",
        "- Load and explore a hotel bookings dataset\n",
        "- Identify stakeholder needs and frame your analysis around business goals\n",
        "- Practice data summarization and visualization\n",
        "- Draw insights that could lead to actionable business recommendations\n",
        "\n",
        "## Why This Matters\n",
        "\n",
        "These skills are essential for business majors and minors working in areas like marketing, operations, finance, or consulting. Understanding how to explore and communicate data-driven insights helps you make better decisions and contribute to real-world business outcomes.\n",
        "\n",
        "<a href=\"https://colab.research.google.com/github/Stan-Pugsley/is_4487_base/blob/main/Assignments/assignment_05_eda.ipynb\" target=\"_parent\">\n",
        "  <img src=\"https://colab.research.google.com/assets/colab-badge.svg\" alt=\"Open In Colab\"/>\n",
        "</a>\n"
      ]
    },
    {
      "cell_type": "markdown",
      "metadata": {
        "id": "ZOaYcWfhKbDZ"
      },
      "source": [
        "## Dataset Description: Hotel Bookings\n",
        "\n",
        "This dataset contains booking information for two types of hotels: a **city hotel** and a **resort hotel**. Each record corresponds to a single booking and includes various details about the reservation, customer demographics, booking source, and whether the booking was canceled.\n",
        "\n",
        "**Source**: [GitHub - TidyTuesday: Hotel Bookings](https://github.com/rfordatascience/tidytuesday/blob/master/data/2020/2020-02-11/readme.md)\n",
        "\n",
        "### Key Use Cases\n",
        "- Understand customer booking behavior\n",
        "- Explore factors related to cancellations\n",
        "- Segment guests based on booking characteristics\n",
        "- Compare city vs. resort hotel performance\n",
        "\n",
        "### Data Dictionary\n",
        "\n",
        "| Variable | Type | Description |\n",
        "|----------|------|-------------|\n",
        "| `hotel` | character | Hotel type: City or Resort |\n",
        "| `is_canceled` | integer | 1 = Canceled, 0 = Not Canceled |\n",
        "| `lead_time` | integer | Days between booking and arrival |\n",
        "| `arrival_date_year` | integer | Year of arrival |\n",
        "| `arrival_date_month` | character | Month of arrival |\n",
        "| `stays_in_weekend_nights` | integer | Nights stayed on weekends |\n",
        "| `stays_in_week_nights` | integer | Nights stayed on weekdays |\n",
        "| `adults` | integer | Number of adults |\n",
        "| `children` | integer | Number of children |\n",
        "| `babies` | integer | Number of babies |\n",
        "| `meal` | character | Type of meal booked |\n",
        "| `country` | character | Country code of origin |\n",
        "| `market_segment` | character | Booking source (e.g., Direct, Online TA) |\n",
        "| `distribution_channel` | character | Booking channel used |\n",
        "| `is_repeated_guest` | integer | 1 = Repeated guest, 0 = New guest |\n",
        "| `previous_cancellations` | integer | Past booking cancellations |\n",
        "| `previous_bookings_not_canceled` | integer | Past bookings not canceled |\n",
        "| `reserved_room_type` | character | Initially reserved room type |\n",
        "| `assigned_room_type` | character | Room type assigned at check-in |\n",
        "| `booking_changes` | integer | Number of booking modifications |\n",
        "| `deposit_type` | character | Deposit type (No Deposit, Non-Refund, etc.) |\n",
        "| `agent` | character | Agent ID who made the booking |\n",
        "| `company` | character | Company ID (if booking through company) |\n",
        "| `days_in_waiting_list` | integer | Days on the waiting list |\n",
        "| `customer_type` | character | Booking type: Contract, Transient, etc. |\n",
        "| `adr` | float | Average Daily Rate (price per night) |\n",
        "| `required_car_parking_spaces` | integer | Requested parking spots |\n",
        "| `total_of_special_requests` | integer | Number of special requests made |\n",
        "| `reservation_status` | character | Final status (Canceled, No-Show, Check-Out) |\n",
        "| `reservation_status_date` | date | Date of the last status update |\n",
        "\n",
        "This dataset is ideal for classification, segmentation, and trend analysis exercises.\n"
      ]
    },
    {
      "cell_type": "markdown",
      "metadata": {
        "id": "WZ7KsaQJLnbT"
      },
      "source": [
        "## 1. Setup and Data Loading\n",
        "\n",
        "Instructions:\n",
        "- Import `pandas`, `seaborn`, and `matplotlib.pyplot`.\n",
        "- Load the dataset from this URL:\n",
        "  https://github.com/Stan-Pugsley/is_4487_base/blob/d764a81fe649c397a1f5b35f1e1ceda48b5178d1/DataSets/hotels.csv?raw=true\n",
        "- Display the first few rows to confirm it loaded correctly.\n"
      ]
    },
    {
      "cell_type": "code",
      "execution_count": null,
      "metadata": {
        "id": "_jCm3A-qJIaS"
      },
      "outputs": [],
      "source": [
        "import pandas as pd\n",
        "import seaborn as sns\n",
        "import matplotlib.pyplot as plt\n",
        "\n",
        "url = \"https://github.com/Stan-Pugsley/is_4487_base/blob/d764a81fe649c397a1f5b35f1e1ceda48b5178d1/DataSets/hotels.csv?raw=true\"\n",
        "df = pd.read_csv(url)\n",
        "\n",
        "df.head()\n"
      ]
    },
    {
      "cell_type": "markdown",
      "metadata": {
        "id": "tmbrFsXULtQR"
      },
      "source": [
        "## 2. Stakeholder and Business Context\n",
        "\n",
        "Business framing:  \n",
        "\n",
        "Every analysis should serve a decision-maker. Before you explore the data, identify who cares about hotel booking behavior and what they might want to know. Your analysis should be framed around those needs.\n",
        "\n",
        "### In your markdown:\n",
        "1. Who are the key stakeholders for this dataset?\n",
        "2. What goals might each stakeholder have?\n",
        "3. What is a clear, specific business problem statement that this data can help answer?\n",
        "\n",
        "\n",
        "\n"
      ]
    },
    {
      "cell_type": "markdown",
      "metadata": {
        "id": "t0EOW268L27U"
      },
      "source": [
        "### ✍️ Your Response: 🔧\n",
        "1.Hotel managers, marketing team, revenue management team, customer experience team<br/><br/>\n",
        "\n",
        "2.Hotel managers → Maximize occupancy and minimize cancellations <br/>\n",
        "Marketing team → Understand customer segments and booking sources for better targeting <br/>\n",
        "Revenue management → Optimize ADR and forecast demand <br/>\n",
        "Customer experience → Improve satisfaction and increase repeat guests <br/><br/>\n",
        "\n",
        "\n",
        "3.\"What factors drive hotel booking cancellations, and what strategies can hotels use to reduce them?\"\n",
        "\n",
        "\n"
      ]
    },
    {
      "cell_type": "markdown",
      "metadata": {
        "id": "FGVxWLdrMGab"
      },
      "source": [
        "## 3. Explore Data Structure and Quality\n",
        "\n",
        "Business framing:  \n",
        "\n",
        "Before diving into analysis, analysts need to understand the shape and health of the data. Bad data leads to bad decisions.\n",
        "\n",
        "- Perform the following 3 checks to see the data quality:\n",
        "  - Summary the data (e.g., `.info()`, `.describe()`)\n",
        "  - Find the number of Null values\n",
        "  - Find the number of duplicate row checks\n",
        "- Flag any issues you notice (e.g., missing values, formatting problems)"
      ]
    },
    {
      "cell_type": "code",
      "execution_count": null,
      "metadata": {
        "id": "vIVmcwjWMB1M"
      },
      "outputs": [],
      "source": [
        "df.info()\n",
        "df.describe()\n",
        "\n",
        "df.isnull().sum()\n",
        "\n",
        "df.duplicated().sum()"
      ]
    },
    {
      "cell_type": "markdown",
      "metadata": {
        "id": "X33CtEIQMK4H"
      },
      "source": [
        "### In your markdown:\n",
        "1. What structural issues or problems did you find?\n",
        "2. What actions would you recommend to clean or prepare this dataset for use?\n",
        "\n",
        "### ✍️ Your Response: 🔧\n",
        "1.Missing values in children, agent, and company columns <br/>\n",
        "\n",
        "Possible inconsistencies in categorical values (e.g., meal, market_segment) <br/>\n",
        "\n",
        "Duplicate rows found <br/> <br/>\n",
        "\n",
        "2.Handle missing values (children → fill with mean/0, agent/company → \"Unknown\")<br/>\n",
        "\n",
        "Drop duplicate rows<br/>\n",
        "\n",
        "Standardize categorical variables\n",
        "\n"
      ]
    },
    {
      "cell_type": "markdown",
      "metadata": {
        "id": "Vf6kcDdyMRrA"
      },
      "source": [
        "## 4. Univariate Analysis\n",
        "\n",
        "Business framing:  \n",
        "\n",
        "Hotels care about trends like average stay length, customer mix, and pricing. A good EDA starts with understanding single variables and their distribution.\n",
        "\n",
        "- Select at least 3 individual variables to explore\n",
        "- Use plots and summary methods (e.g. info(), describe(), etc)  to describe the distribution (hint: we are only looking at the values of one variable, so think of plots you've used in the past that DON'T compare 2 variables.)\n",
        "- Focus on what matters from a business standpoint (e.g., pricing, cancellations, guest types)"
      ]
    },
    {
      "cell_type": "code",
      "execution_count": null,
      "metadata": {
        "id": "MZvpWpMaMU3z"
      },
      "outputs": [],
      "source": [
        "sns.countplot(x=\"is_canceled\", data=df)\n",
        "plt.title(\"Booking Cancellations (0=Not Canceled, 1=Cancelled)\")\n",
        "plt.show()\n",
        "\n",
        "sns.histplot(df[\"adr\"], bins=50, kde=True)\n",
        "plt.title(\"Distribution of Average Daily Rate (ADR)\")\n",
        "plt.xlim(0, 500)  # limit to avoid outliers distorting\n",
        "plt.show()\n",
        "\n",
        "sns.countplot(x=\"customer_type\", data=df)\n",
        "plt.title(\"Customer Types\")\n",
        "plt.show()\n"
      ]
    },
    {
      "cell_type": "markdown",
      "metadata": {
        "id": "dx-xxfI7MXhp"
      },
      "source": [
        "### In your markdown:\n",
        "1. Variable 1 – What did you explore and what did you find?\n",
        "2. Variable 2 – What did you explore and what did you find?\n",
        "3. Variable 3 – What did you explore and what did you find?\n",
        "\n",
        "### ✍️ Your Response: 🔧\n",
        "- **Variable 1 (is_canceled)** – About 37% of bookings are canceled → significant risk to revenue\n",
        "\n",
        "- **Variable 2 (adr)** – ADR distribution is right-skewed, with most values under 200 → a few extreme outliers exist\n",
        "\n",
        "- **Variable 3 (customer_type)** – Majority are transient customers → heavy reliance on one-time guests\n",
        "\n"
      ]
    },
    {
      "cell_type": "markdown",
      "metadata": {
        "id": "FXSfNzxPMcf0"
      },
      "source": [
        "## 5. Bivariate Analysis\n",
        "\n",
        "Business framing:  \n",
        "\n",
        "Stakeholders often ask: “What drives cancellations?” or “Do longer stays mean higher revenue?” Bivariate analysis helps you uncover those kinds of relationships.\n",
        "\n",
        "- Choose 2 relevant variable pairs (e.g., `lead_time` vs. `is_canceled`, or `adr` vs. `customer_type`)\n",
        "- Use scatterplots, grouped bar plots, or boxplots to explore the relationships\n",
        "- Interpret what these relationships could mean for the hotel business"
      ]
    },
    {
      "cell_type": "code",
      "execution_count": null,
      "metadata": {
        "id": "RV_taSMaMepQ"
      },
      "outputs": [],
      "source": [
        "sns.boxplot(x=\"is_canceled\", y=\"lead_time\", data=df)\n",
        "plt.title(\"Lead Time vs. Cancellation\")\n",
        "plt.show()\n",
        "\n",
        "sns.boxplot(x=\"customer_type\", y=\"adr\", data=df)\n",
        "plt.title(\"ADR by Customer Type\")\n",
        "plt.show()\n"
      ]
    },
    {
      "cell_type": "markdown",
      "metadata": {
        "id": "jizoFiN2Mgmk"
      },
      "source": [
        "### In your markdown:\n",
        "1. Relationship 1 – What did you analyze and what insights did you find?\n",
        "2. Relationship 2 – What did you analyze and what insights did you find?\n",
        "\n",
        "### ✍️ Your Response: 🔧\n",
        "- **Relationship 1 (lead_time vs. is_canceled)** – Longer lead times are associated with higher cancellations → early bookers are more uncertain\n",
        "\n",
        "- **Relationship 2 (adr vs. customer_type)** – Contract customers show stable ADR, while transient guests vary widely → pricing strategy strongly affects transient customers"
      ]
    },
    {
      "cell_type": "markdown",
      "metadata": {
        "id": "jfdpzE3yMkLQ"
      },
      "source": [
        "## 6. Problem Complexity and Analytics Framing\n",
        "\n",
        "Business framing:  \n",
        "\n",
        "Let’s say you found a strong trend — maybe high lead times predict cancellations, or certain channels bring repeat guests. What kind of problem is this?\n",
        "\n",
        "- Choose one insight from your earlier analysis\n",
        "- Reflect on:\n",
        "  - What type of complexity this problem represents (e.g., variety, volume, variability)\n",
        "  - What kind of analytics would help solve or explain it (descriptive, diagnostic, predictive, prescriptive)\n",
        "\n",
        "### In your markdown:\n",
        "1. What was your selected insight?\n",
        "2. What kind of complexity does it involve?\n",
        "3. What type of analytics would help, and why?\n",
        "\n"
      ]
    },
    {
      "cell_type": "markdown",
      "metadata": {
        "id": "pEeSGoyoMm1Z"
      },
      "source": [
        "### ✍️ Your Response: 🔧\n",
        "1. Selected insight: Longer lead times predict higher cancellations\n",
        "\n",
        "2. Complexity type: Variability (customer behavior changes over time)\n",
        "\n",
        "3. Analytics type: Predictive analytics → build models to predict cancellation risk and apply stricter policies to high-risk bookings\n"
      ]
    },
    {
      "cell_type": "markdown",
      "metadata": {
        "id": "dV4gRWvpMqa3"
      },
      "source": [
        "## 7. Final Takeaways and Recommendations\n",
        "\n",
        "Business framing:  \n",
        "\n",
        "Imagine you’re preparing for a stakeholder meeting. What would you highlight from your findings?\n",
        "\n",
        "- Identify your top 2–3 insights or patterns\n",
        "- Connect each to a stakeholder need or business goal\n",
        "- Make one recommendation based on the analysis\n",
        "\n",
        "### In your markdown:\n",
        "1. What patterns or trends stood out?\n",
        "2. How do they connect to stakeholder goals?\n",
        "3. What recommendation would you make based on this analysis?\n",
        "4. How does this relate to your customized learning outcome you created in canvas?\n",
        "\n"
      ]
    },
    {
      "cell_type": "markdown",
      "metadata": {
        "id": "bWRmqIUyPhGv"
      },
      "source": [
        "### ✍️ Your Response: 🔧\n",
        "\n",
        "**Key Patterns/Trends**\n",
        "- Cancellation rates increase with longer lead times  \n",
        "- Majority of customers are transient → low loyalty segment  \n",
        "- ADR varies significantly across customer types  \n",
        "\n",
        "**Connection to Stakeholder Goals**\n",
        "- **Hotel managers**: Reducing cancellations → ensures stable operations  \n",
        "- **Marketing team**: Need strategies to build repeat guests → stronger brand loyalty  \n",
        "- **Revenue management**: Optimize ADR → tailor pricing to customer segments  \n",
        "\n",
        "**Recommendations**\n",
        "- Implement deposit or partial refund policies for long-lead bookings to reduce cancellations  \n",
        "- Launch loyalty programs (e.g., points, membership perks) to convert transient customers into repeat guests  \n",
        "- Develop differentiated pricing strategies based on customer type and ADR patterns  \n",
        "\n",
        "**Connection to Canvas Learning Outcome**\n",
        "- By defining business problems, extracting insights, and proposing actionable recommendations, this directly aligns with my customized learning outcome of improving data analysis skills and applying them in real-world business contexts  \n"
      ]
    },
    {
      "cell_type": "markdown",
      "metadata": {
        "id": "5IElVIHbNG7N"
      },
      "source": [
        "## Submission Instructions\n",
        "\n",
        "✅ **Before submitting:**\n",
        "- Make sure all code cells are run and outputs are visible  \n",
        "- All markdown questions are answered thoughtfully  \n",
        "- Submit the assignment as an **HTML file** on Canvas\n"
      ]
    },
    {
      "cell_type": "code",
      "execution_count": null,
      "metadata": {
        "id": "6Njy6t_VD_eC"
      },
      "outputs": [],
      "source": [
        "!jupyter nbconvert --to html \"assignment_05_LastnameFirstname.ipynb\""
      ]
    }
  ],
  "metadata": {
    "colab": {
      "provenance": [],
      "include_colab_link": true
    },
    "kernelspec": {
      "display_name": "Python 3",
      "name": "python3"
    },
    "language_info": {
      "name": "python"
    }
  },
  "nbformat": 4,
  "nbformat_minor": 0
}